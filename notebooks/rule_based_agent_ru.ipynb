{
 "cells": [
  {
   "cell_type": "markdown",
   "source": [
    "### Colab environment"
   ],
   "metadata": {
    "collapsed": false
   }
  },
  {
   "cell_type": "code",
   "execution_count": null,
   "outputs": [],
   "source": [
    "!git clone https://github.com/v3code/IGLU-simple-agent.git\n",
    "%cd ./IGLU-simple-agent\n",
    "!./initialize.sh"
   ],
   "metadata": {
    "collapsed": false
   }
  },
  {
   "cell_type": "code",
   "execution_count": null,
   "outputs": [],
   "source": [
    "import sys\n",
    "sys.path.insert(1,'/content/IGLU-simple-agent')"
   ],
   "metadata": {
    "collapsed": false
   }
  },
  {
   "cell_type": "markdown",
   "source": [
    "# Описание агентов\n",
    "В начале данной работы предполагалось использование летающего агента по причине\n",
    "того, что он обладает несколькими преимуществами:\n",
    "- Непрерывное пространство действий, которое должно было позволить более точное и быстрое управление агентом\n",
    "- Возможность передвигаться по трем осям одновременно\n",
    "- Практически отсутствуют столкновение с блоками (можно проходить сквозь блоки)\n",
    "\n",
    "Однако, на самом деле, существуют некоторые проблемы с реализацией этого режима в данной среде (они будут описаны ниже),\n",
    "поэтому основным агентом является шагающий агент.\n",
    "\n",
    "Каждый агент имеет две очереди:\n",
    "- Очередь действий\n",
    "- Очередь постройки и удаления (в шагающем агенте не реализовано)\n",
    "\n",
    "При инициализации агента производится построение очереди постройки, состоящее из объектов, в которые передаются контекст (координаты блока, цвет, действие - удалить или построить). Также в объект передается сам агент, над которым будет производиться управление.\n",
    "Сами объекты представляют собой сущности класса BuildingQueueItem с методом process в котором производится построение очереди действий.\n",
    "\n",
    "Действия представляют собой команды, поддерживаемые средой.\n",
    "\n",
    "Когда происходит запрос действия от агента, он инициализируется, если до этого не был инициализирован,\n",
    "затем, идет проверка на наличие элементов в очереди действий.\n",
    "Если элементов нет, тогда производится проверка на наличие элемента из очереди построения,\n",
    "и вызывает метод process этого элемента. Затем производится повторная проверка очереди действий\n",
    "и возвращается действие из этой очереди, если она не пуста.\n",
    "Когда элементов в обеих очередях нет, возвращается пропуск-действие и агент переходит в состояние is_done.\n",
    "\n",
    "Расчет всех необходимых действий производится при инициализации агента. Разделение на очередь действий и постройки нужно для оптимизации оперативной памяти.\n",
    "\n",
    "Для корректной работы необходимо передать в конструктор агента карту, которую необходимо получить (target_grid) и начальное положение агента.\n",
    "\n",
    "## Ограничения агентов\n",
    "- Агенты пока могу работать только из известной начальной позиции.\n",
    "- Агенты будут корректно строить только при пустом начальном состоянии карты среды.\n",
    "\n",
    "## Описание алгоритма шагающего агента\n",
    "\n",
    "Сам алгоритм построения для шагающего агента очень прост. Построение ведется по столбцам сетки в зоне построения. Если в целевой сетке, на определенном столбце существует элемент на некоторой высоте, то агент строит \"башню\" с данной высотой в соответствующих координатах. Когда башня достроена, агент спрыгивает с башни, удаляя ненужные блоки в полете. И так для каждого столбца - с лева на право, с севера на юг.\n",
    "\n",
    "Исходный код агента можно посмотреть [здесь](https://github.com/v3code/IGLU-simple-agent/blob/master/core/builder_walking.py)\n",
    "\n",
    "# Проблемы с летающим агентом\n",
    "- Непрерывным является только движение камерой, движение агента идет с одинаковой скоростью при любом значении в управляющем векторе от -1 до 1 (кроме соответственно 0).\n",
    "- Движение по вертикали вверх и вниз не проходит сквозь блоки\n",
    "- 1 шаг в шагающем пространстве действий равен 0.25 длины блока, а в летающем - 0.75, из-за чего возникает смещение позиции при переходе к определенным координатам, и, соответственно, ошибках при построении и удалении блоков\n",
    "\n",
    "## Возможные исправления\n",
    "- Использовать движение по одной оси и управлять направлением при помощи камеры\n",
    "- Использовать коррекцию камерой при построении и удалении блоков\n"
   ],
   "metadata": {
    "collapsed": false
   }
  },
  {
   "cell_type": "markdown",
   "source": [
    "# Оценка агента с использованием NLP модели"
   ],
   "metadata": {
    "collapsed": false
   }
  },
  {
   "cell_type": "code",
   "execution_count": 1,
   "outputs": [
    {
     "name": "stdout",
     "output_type": "stream",
     "text": [
      "Loading parsed dataset failed. Downloading full dataset.\n"
     ]
    },
    {
     "name": "stderr",
     "output_type": "stream",
     "text": [
      "parsing dataset: 100%|██████████| 143/143 [00:03<00:00, 43.06it/s]\n"
     ]
    },
    {
     "name": "stdout",
     "output_type": "stream",
     "text": [
      "caching tasks dataset... done\n",
      "Starting task: c118-session-000-subtask-000\n",
      "Loading parsed dataset failed. Downloading full dataset.\n"
     ]
    },
    {
     "name": "stderr",
     "output_type": "stream",
     "text": [
      "parsing dataset: 100%|██████████| 143/143 [00:03<00:00, 44.25it/s]\n"
     ]
    },
    {
     "name": "stdout",
     "output_type": "stream",
     "text": [
      "caching tasks dataset... done\n",
      "Starting task: c118-session-001-subtask-000\n",
      "Loading parsed dataset failed. Downloading full dataset.\n"
     ]
    },
    {
     "name": "stderr",
     "output_type": "stream",
     "text": [
      "parsing dataset: 100%|██████████| 143/143 [00:02<00:00, 57.05it/s]\n"
     ]
    },
    {
     "name": "stdout",
     "output_type": "stream",
     "text": [
      "caching tasks dataset... done\n",
      "Starting task: c118-session-001-subtask-001\n",
      "Loading parsed dataset failed. Downloading full dataset.\n"
     ]
    },
    {
     "name": "stderr",
     "output_type": "stream",
     "text": [
      "parsing dataset: 100%|██████████| 143/143 [00:02<00:00, 56.52it/s]\n"
     ]
    },
    {
     "name": "stdout",
     "output_type": "stream",
     "text": [
      "caching tasks dataset... done\n",
      "Starting task: c118-session-001-subtask-002\n",
      "Loading parsed dataset failed. Downloading full dataset.\n"
     ]
    },
    {
     "name": "stderr",
     "output_type": "stream",
     "text": [
      "parsing dataset: 100%|██████████| 143/143 [00:02<00:00, 56.86it/s]\n"
     ]
    },
    {
     "name": "stdout",
     "output_type": "stream",
     "text": [
      "caching tasks dataset... done\n",
      "Starting task: c118-session-001-subtask-003\n",
      "Loading parsed dataset failed. Downloading full dataset.\n"
     ]
    },
    {
     "name": "stderr",
     "output_type": "stream",
     "text": [
      "parsing dataset: 100%|██████████| 143/143 [00:02<00:00, 56.53it/s]\n"
     ]
    },
    {
     "name": "stdout",
     "output_type": "stream",
     "text": [
      "caching tasks dataset... done\n",
      "Starting task: c118-session-001-subtask-004\n",
      "Loading parsed dataset failed. Downloading full dataset.\n"
     ]
    },
    {
     "name": "stderr",
     "output_type": "stream",
     "text": [
      "parsing dataset: 100%|██████████| 143/143 [00:02<00:00, 56.51it/s]\n"
     ]
    },
    {
     "name": "stdout",
     "output_type": "stream",
     "text": [
      "caching tasks dataset... done\n",
      "Starting task: c118-session-002-subtask-000\n",
      "Loading parsed dataset failed. Downloading full dataset.\n"
     ]
    },
    {
     "name": "stderr",
     "output_type": "stream",
     "text": [
      "parsing dataset: 100%|██████████| 143/143 [00:02<00:00, 55.98it/s]\n"
     ]
    },
    {
     "name": "stdout",
     "output_type": "stream",
     "text": [
      "caching tasks dataset... done\n",
      "Starting task: c118-session-002-subtask-001\n",
      "Loading parsed dataset failed. Downloading full dataset.\n"
     ]
    },
    {
     "name": "stderr",
     "output_type": "stream",
     "text": [
      "parsing dataset: 100%|██████████| 143/143 [00:02<00:00, 57.10it/s]\n"
     ]
    },
    {
     "name": "stdout",
     "output_type": "stream",
     "text": [
      "caching tasks dataset... done\n",
      "Starting task: c120-session-000-subtask-000\n",
      "Loading parsed dataset failed. Downloading full dataset.\n"
     ]
    },
    {
     "name": "stderr",
     "output_type": "stream",
     "text": [
      "parsing dataset: 100%|██████████| 143/143 [00:02<00:00, 55.78it/s]\n"
     ]
    },
    {
     "name": "stdout",
     "output_type": "stream",
     "text": [
      "caching tasks dataset... done\n",
      "Starting task: c120-session-001-subtask-000\n",
      "Loading parsed dataset failed. Downloading full dataset.\n"
     ]
    },
    {
     "name": "stderr",
     "output_type": "stream",
     "text": [
      "parsing dataset: 100%|██████████| 143/143 [00:02<00:00, 56.24it/s]\n"
     ]
    },
    {
     "name": "stdout",
     "output_type": "stream",
     "text": [
      "caching tasks dataset... done\n",
      "Starting task: c120-session-001-subtask-001\n",
      "Loading parsed dataset failed. Downloading full dataset.\n"
     ]
    },
    {
     "name": "stderr",
     "output_type": "stream",
     "text": [
      "parsing dataset: 100%|██████████| 143/143 [00:02<00:00, 56.29it/s]\n"
     ]
    },
    {
     "name": "stdout",
     "output_type": "stream",
     "text": [
      "caching tasks dataset... done\n",
      "Starting task: c120-session-001-subtask-002\n",
      "Loading parsed dataset failed. Downloading full dataset.\n"
     ]
    },
    {
     "name": "stderr",
     "output_type": "stream",
     "text": [
      "parsing dataset: 100%|██████████| 143/143 [00:02<00:00, 55.83it/s]\n"
     ]
    },
    {
     "name": "stdout",
     "output_type": "stream",
     "text": [
      "caching tasks dataset... done\n",
      "Starting task: c120-session-001-subtask-003\n",
      "Loading parsed dataset failed. Downloading full dataset.\n"
     ]
    },
    {
     "name": "stderr",
     "output_type": "stream",
     "text": [
      "parsing dataset: 100%|██████████| 143/143 [00:02<00:00, 54.73it/s]\n"
     ]
    },
    {
     "name": "stdout",
     "output_type": "stream",
     "text": [
      "caching tasks dataset... done\n",
      "Starting task: c120-session-001-subtask-004\n",
      "Loading parsed dataset failed. Downloading full dataset.\n"
     ]
    },
    {
     "name": "stderr",
     "output_type": "stream",
     "text": [
      "parsing dataset: 100%|██████████| 143/143 [00:02<00:00, 56.34it/s]\n"
     ]
    },
    {
     "name": "stdout",
     "output_type": "stream",
     "text": [
      "caching tasks dataset... done\n",
      "Starting task: c120-session-001-subtask-005\n",
      "Loading parsed dataset failed. Downloading full dataset.\n"
     ]
    },
    {
     "name": "stderr",
     "output_type": "stream",
     "text": [
      "parsing dataset: 100%|██████████| 143/143 [00:02<00:00, 56.15it/s]\n"
     ]
    },
    {
     "name": "stdout",
     "output_type": "stream",
     "text": [
      "caching tasks dataset... done\n",
      "Starting task: c120-session-001-subtask-006\n",
      "Loading parsed dataset failed. Downloading full dataset.\n"
     ]
    },
    {
     "name": "stderr",
     "output_type": "stream",
     "text": [
      "parsing dataset: 100%|██████████| 143/143 [00:02<00:00, 55.68it/s]\n"
     ]
    },
    {
     "name": "stdout",
     "output_type": "stream",
     "text": [
      "caching tasks dataset... done\n",
      "Starting task: c120-session-001-subtask-007\n",
      "Loading parsed dataset failed. Downloading full dataset.\n"
     ]
    },
    {
     "name": "stderr",
     "output_type": "stream",
     "text": [
      "parsing dataset: 100%|██████████| 143/143 [00:02<00:00, 56.25it/s]\n"
     ]
    },
    {
     "name": "stdout",
     "output_type": "stream",
     "text": [
      "caching tasks dataset... done\n",
      "Starting task: c120-session-002-subtask-000\n",
      "Loading parsed dataset failed. Downloading full dataset.\n"
     ]
    },
    {
     "name": "stderr",
     "output_type": "stream",
     "text": [
      "parsing dataset: 100%|██████████| 143/143 [00:02<00:00, 57.39it/s]\n"
     ]
    },
    {
     "name": "stdout",
     "output_type": "stream",
     "text": [
      "caching tasks dataset... done\n",
      "Starting task: c120-session-003-subtask-000\n",
      "Loading parsed dataset failed. Downloading full dataset.\n"
     ]
    },
    {
     "name": "stderr",
     "output_type": "stream",
     "text": [
      "parsing dataset: 100%|██████████| 143/143 [00:02<00:00, 57.20it/s]\n"
     ]
    },
    {
     "name": "stdout",
     "output_type": "stream",
     "text": [
      "caching tasks dataset... done\n",
      "Starting task: c120-session-003-subtask-001\n",
      "Loading parsed dataset failed. Downloading full dataset.\n"
     ]
    },
    {
     "name": "stderr",
     "output_type": "stream",
     "text": [
      "parsing dataset: 100%|██████████| 143/143 [00:02<00:00, 56.44it/s]\n"
     ]
    },
    {
     "name": "stdout",
     "output_type": "stream",
     "text": [
      "caching tasks dataset... done\n",
      "Starting task: c120-session-003-subtask-002\n",
      "Loading parsed dataset failed. Downloading full dataset.\n"
     ]
    },
    {
     "name": "stderr",
     "output_type": "stream",
     "text": [
      "parsing dataset: 100%|██████████| 143/143 [00:02<00:00, 54.64it/s]\n"
     ]
    },
    {
     "name": "stdout",
     "output_type": "stream",
     "text": [
      "caching tasks dataset... done\n",
      "Starting task: c120-session-003-subtask-003\n",
      "Loading parsed dataset failed. Downloading full dataset.\n"
     ]
    },
    {
     "name": "stderr",
     "output_type": "stream",
     "text": [
      "parsing dataset: 100%|██████████| 143/143 [00:02<00:00, 55.13it/s]\n"
     ]
    },
    {
     "name": "stdout",
     "output_type": "stream",
     "text": [
      "caching tasks dataset... done\n",
      "Starting task: c120-session-003-subtask-004\n",
      "Loading parsed dataset failed. Downloading full dataset.\n"
     ]
    },
    {
     "name": "stderr",
     "output_type": "stream",
     "text": [
      "parsing dataset: 100%|██████████| 143/143 [00:02<00:00, 55.60it/s]\n"
     ]
    },
    {
     "name": "stdout",
     "output_type": "stream",
     "text": [
      "caching tasks dataset... done\n",
      "Starting task: c120-session-003-subtask-005\n",
      "Loading parsed dataset failed. Downloading full dataset.\n"
     ]
    },
    {
     "name": "stderr",
     "output_type": "stream",
     "text": [
      "parsing dataset: 100%|██████████| 143/143 [00:02<00:00, 55.73it/s]\n"
     ]
    },
    {
     "name": "stdout",
     "output_type": "stream",
     "text": [
      "caching tasks dataset... done\n",
      "Starting task: c120-session-003-subtask-006\n",
      "Loading parsed dataset failed. Downloading full dataset.\n"
     ]
    },
    {
     "name": "stderr",
     "output_type": "stream",
     "text": [
      "parsing dataset: 100%|██████████| 143/143 [00:02<00:00, 54.98it/s]\n"
     ]
    },
    {
     "name": "stdout",
     "output_type": "stream",
     "text": [
      "caching tasks dataset... done\n",
      "Starting task: c120-session-003-subtask-007\n",
      "Loading parsed dataset failed. Downloading full dataset.\n"
     ]
    },
    {
     "name": "stderr",
     "output_type": "stream",
     "text": [
      "parsing dataset: 100%|██████████| 143/143 [00:02<00:00, 56.34it/s]\n"
     ]
    },
    {
     "name": "stdout",
     "output_type": "stream",
     "text": [
      "caching tasks dataset... done\n",
      "Starting task: c120-session-003-subtask-008\n",
      "Loading parsed dataset failed. Downloading full dataset.\n"
     ]
    },
    {
     "name": "stderr",
     "output_type": "stream",
     "text": [
      "parsing dataset: 100%|██████████| 143/143 [00:02<00:00, 55.55it/s]\n"
     ]
    },
    {
     "name": "stdout",
     "output_type": "stream",
     "text": [
      "caching tasks dataset... done\n",
      "Starting task: c120-session-003-subtask-009\n",
      "Loading parsed dataset failed. Downloading full dataset.\n"
     ]
    },
    {
     "name": "stderr",
     "output_type": "stream",
     "text": [
      "parsing dataset: 100%|██████████| 143/143 [00:02<00:00, 56.68it/s]\n"
     ]
    },
    {
     "name": "stdout",
     "output_type": "stream",
     "text": [
      "caching tasks dataset... done\n",
      "Starting task: c120-session-004-subtask-000\n",
      "Loading parsed dataset failed. Downloading full dataset.\n"
     ]
    },
    {
     "name": "stderr",
     "output_type": "stream",
     "text": [
      "parsing dataset: 100%|██████████| 143/143 [00:02<00:00, 54.95it/s]\n"
     ]
    },
    {
     "name": "stdout",
     "output_type": "stream",
     "text": [
      "caching tasks dataset... done\n",
      "Starting task: c120-session-004-subtask-001\n",
      "Loading parsed dataset failed. Downloading full dataset.\n"
     ]
    },
    {
     "name": "stderr",
     "output_type": "stream",
     "text": [
      "parsing dataset: 100%|██████████| 143/143 [00:02<00:00, 56.39it/s]\n"
     ]
    },
    {
     "name": "stdout",
     "output_type": "stream",
     "text": [
      "caching tasks dataset... done\n",
      "Starting task: c120-session-004-subtask-002\n",
      "Loading parsed dataset failed. Downloading full dataset.\n"
     ]
    },
    {
     "name": "stderr",
     "output_type": "stream",
     "text": [
      "parsing dataset: 100%|██████████| 143/143 [00:02<00:00, 56.51it/s]\n"
     ]
    },
    {
     "name": "stdout",
     "output_type": "stream",
     "text": [
      "caching tasks dataset... done\n",
      "Starting task: c120-session-004-subtask-003\n",
      "Loading parsed dataset failed. Downloading full dataset.\n"
     ]
    },
    {
     "name": "stderr",
     "output_type": "stream",
     "text": [
      "parsing dataset: 100%|██████████| 143/143 [00:02<00:00, 55.96it/s]\n"
     ]
    },
    {
     "name": "stdout",
     "output_type": "stream",
     "text": [
      "caching tasks dataset... done\n",
      "Starting task: c120-session-005-subtask-000\n",
      "Loading parsed dataset failed. Downloading full dataset.\n"
     ]
    },
    {
     "name": "stderr",
     "output_type": "stream",
     "text": [
      "parsing dataset: 100%|██████████| 143/143 [00:02<00:00, 56.20it/s]\n"
     ]
    },
    {
     "name": "stdout",
     "output_type": "stream",
     "text": [
      "caching tasks dataset... done\n",
      "Starting task: c120-session-005-subtask-001\n",
      "Loading parsed dataset failed. Downloading full dataset.\n"
     ]
    },
    {
     "name": "stderr",
     "output_type": "stream",
     "text": [
      "parsing dataset: 100%|██████████| 143/143 [00:02<00:00, 56.20it/s]\n"
     ]
    },
    {
     "name": "stdout",
     "output_type": "stream",
     "text": [
      "caching tasks dataset... done\n",
      "Starting task: c120-session-005-subtask-002\n",
      "Loading parsed dataset failed. Downloading full dataset.\n"
     ]
    },
    {
     "name": "stderr",
     "output_type": "stream",
     "text": [
      "parsing dataset: 100%|██████████| 143/143 [00:02<00:00, 56.64it/s]\n"
     ]
    },
    {
     "name": "stdout",
     "output_type": "stream",
     "text": [
      "caching tasks dataset... done\n",
      "Starting task: c120-session-005-subtask-003\n",
      "Loading parsed dataset failed. Downloading full dataset.\n"
     ]
    },
    {
     "name": "stderr",
     "output_type": "stream",
     "text": [
      "parsing dataset: 100%|██████████| 143/143 [00:02<00:00, 56.01it/s]\n"
     ]
    },
    {
     "name": "stdout",
     "output_type": "stream",
     "text": [
      "caching tasks dataset... done\n",
      "Starting task: c120-session-005-subtask-004\n",
      "Loading parsed dataset failed. Downloading full dataset.\n"
     ]
    },
    {
     "name": "stderr",
     "output_type": "stream",
     "text": [
      "parsing dataset: 100%|██████████| 143/143 [00:02<00:00, 57.18it/s]\n"
     ]
    },
    {
     "name": "stdout",
     "output_type": "stream",
     "text": [
      "caching tasks dataset... done\n",
      "Starting task: c120-session-005-subtask-005\n",
      "Loading parsed dataset failed. Downloading full dataset.\n"
     ]
    },
    {
     "name": "stderr",
     "output_type": "stream",
     "text": [
      "parsing dataset: 100%|██████████| 143/143 [00:02<00:00, 56.21it/s]\n"
     ]
    },
    {
     "name": "stdout",
     "output_type": "stream",
     "text": [
      "caching tasks dataset... done\n",
      "Starting task: c120-session-006-subtask-000\n",
      "Loading parsed dataset failed. Downloading full dataset.\n"
     ]
    },
    {
     "name": "stderr",
     "output_type": "stream",
     "text": [
      "parsing dataset: 100%|██████████| 143/143 [00:02<00:00, 55.21it/s]\n"
     ]
    },
    {
     "name": "stdout",
     "output_type": "stream",
     "text": [
      "caching tasks dataset... done\n",
      "Starting task: c120-session-007-subtask-000\n",
      "Loading parsed dataset failed. Downloading full dataset.\n"
     ]
    },
    {
     "name": "stderr",
     "output_type": "stream",
     "text": [
      "parsing dataset: 100%|██████████| 143/143 [00:02<00:00, 55.23it/s]\n"
     ]
    },
    {
     "name": "stdout",
     "output_type": "stream",
     "text": [
      "caching tasks dataset... done\n",
      "Starting task: c120-session-007-subtask-001\n",
      "Loading parsed dataset failed. Downloading full dataset.\n"
     ]
    },
    {
     "name": "stderr",
     "output_type": "stream",
     "text": [
      "parsing dataset: 100%|██████████| 143/143 [00:02<00:00, 57.54it/s]\n"
     ]
    },
    {
     "name": "stdout",
     "output_type": "stream",
     "text": [
      "caching tasks dataset... done\n",
      "Starting task: c120-session-007-subtask-002\n",
      "Loading parsed dataset failed. Downloading full dataset.\n"
     ]
    },
    {
     "name": "stderr",
     "output_type": "stream",
     "text": [
      "parsing dataset: 100%|██████████| 143/143 [00:02<00:00, 54.65it/s]\n"
     ]
    },
    {
     "name": "stdout",
     "output_type": "stream",
     "text": [
      "caching tasks dataset... done\n",
      "Starting task: c120-session-007-subtask-003\n",
      "Loading parsed dataset failed. Downloading full dataset.\n"
     ]
    },
    {
     "name": "stderr",
     "output_type": "stream",
     "text": [
      "parsing dataset: 100%|██████████| 143/143 [00:02<00:00, 55.63it/s]\n"
     ]
    },
    {
     "name": "stdout",
     "output_type": "stream",
     "text": [
      "caching tasks dataset... done\n",
      "Starting task: c120-session-007-subtask-004\n",
      "Loading parsed dataset failed. Downloading full dataset.\n"
     ]
    },
    {
     "name": "stderr",
     "output_type": "stream",
     "text": [
      "parsing dataset: 100%|██████████| 143/143 [00:02<00:00, 56.89it/s]\n"
     ]
    },
    {
     "name": "stdout",
     "output_type": "stream",
     "text": [
      "caching tasks dataset... done\n",
      "Starting task: c126-session-000-subtask-000\n",
      "Loading parsed dataset failed. Downloading full dataset.\n"
     ]
    },
    {
     "name": "stderr",
     "output_type": "stream",
     "text": [
      "parsing dataset: 100%|██████████| 143/143 [00:02<00:00, 54.82it/s]\n"
     ]
    },
    {
     "name": "stdout",
     "output_type": "stream",
     "text": [
      "caching tasks dataset... done\n",
      "Starting task: c126-session-001-subtask-000\n",
      "Loading parsed dataset failed. Downloading full dataset.\n"
     ]
    },
    {
     "name": "stderr",
     "output_type": "stream",
     "text": [
      "parsing dataset: 100%|██████████| 143/143 [00:02<00:00, 56.07it/s]\n"
     ]
    },
    {
     "name": "stdout",
     "output_type": "stream",
     "text": [
      "caching tasks dataset... done\n",
      "Starting task: c126-session-001-subtask-001\n",
      "Loading parsed dataset failed. Downloading full dataset.\n"
     ]
    },
    {
     "name": "stderr",
     "output_type": "stream",
     "text": [
      "parsing dataset: 100%|██████████| 143/143 [00:02<00:00, 56.66it/s]\n"
     ]
    },
    {
     "name": "stdout",
     "output_type": "stream",
     "text": [
      "caching tasks dataset... done\n",
      "Starting task: c126-session-001-subtask-002\n",
      "Loading parsed dataset failed. Downloading full dataset.\n"
     ]
    },
    {
     "name": "stderr",
     "output_type": "stream",
     "text": [
      "parsing dataset: 100%|██████████| 143/143 [00:02<00:00, 57.01it/s]\n"
     ]
    },
    {
     "name": "stdout",
     "output_type": "stream",
     "text": [
      "caching tasks dataset... done\n",
      "Starting task: c126-session-001-subtask-003\n",
      "Loading parsed dataset failed. Downloading full dataset.\n"
     ]
    },
    {
     "name": "stderr",
     "output_type": "stream",
     "text": [
      "parsing dataset: 100%|██████████| 143/143 [00:02<00:00, 54.60it/s]\n"
     ]
    },
    {
     "name": "stdout",
     "output_type": "stream",
     "text": [
      "caching tasks dataset... done\n",
      "Starting task: c126-session-001-subtask-004\n",
      "Loading parsed dataset failed. Downloading full dataset.\n"
     ]
    },
    {
     "name": "stderr",
     "output_type": "stream",
     "text": [
      "parsing dataset: 100%|██████████| 143/143 [00:02<00:00, 55.14it/s]\n"
     ]
    },
    {
     "name": "stdout",
     "output_type": "stream",
     "text": [
      "caching tasks dataset... done\n",
      "Starting task: c126-session-001-subtask-005\n",
      "Loading parsed dataset failed. Downloading full dataset.\n"
     ]
    },
    {
     "name": "stderr",
     "output_type": "stream",
     "text": [
      "parsing dataset: 100%|██████████| 143/143 [00:02<00:00, 56.18it/s]\n"
     ]
    },
    {
     "name": "stdout",
     "output_type": "stream",
     "text": [
      "caching tasks dataset... done\n",
      "Starting task: c126-session-001-subtask-006\n",
      "Loading parsed dataset failed. Downloading full dataset.\n"
     ]
    },
    {
     "name": "stderr",
     "output_type": "stream",
     "text": [
      "parsing dataset: 100%|██████████| 143/143 [00:02<00:00, 56.48it/s]\n"
     ]
    },
    {
     "name": "stdout",
     "output_type": "stream",
     "text": [
      "caching tasks dataset... done\n",
      "Starting task: c126-session-002-subtask-000\n",
      "Loading parsed dataset failed. Downloading full dataset.\n"
     ]
    },
    {
     "name": "stderr",
     "output_type": "stream",
     "text": [
      "parsing dataset: 100%|██████████| 143/143 [00:02<00:00, 57.38it/s]\n"
     ]
    },
    {
     "name": "stdout",
     "output_type": "stream",
     "text": [
      "caching tasks dataset... done\n",
      "Starting task: c126-session-002-subtask-001\n",
      "Loading parsed dataset failed. Downloading full dataset.\n"
     ]
    },
    {
     "name": "stderr",
     "output_type": "stream",
     "text": [
      "parsing dataset: 100%|██████████| 143/143 [00:02<00:00, 57.02it/s]\n"
     ]
    },
    {
     "name": "stdout",
     "output_type": "stream",
     "text": [
      "caching tasks dataset... done\n",
      "Starting task: c126-session-002-subtask-002\n",
      "Loading parsed dataset failed. Downloading full dataset.\n"
     ]
    },
    {
     "name": "stderr",
     "output_type": "stream",
     "text": [
      "parsing dataset: 100%|██████████| 143/143 [00:02<00:00, 55.40it/s]\n"
     ]
    },
    {
     "name": "stdout",
     "output_type": "stream",
     "text": [
      "caching tasks dataset... done\n",
      "Starting task: c126-session-002-subtask-003\n",
      "Loading parsed dataset failed. Downloading full dataset.\n"
     ]
    },
    {
     "name": "stderr",
     "output_type": "stream",
     "text": [
      "parsing dataset: 100%|██████████| 143/143 [00:02<00:00, 57.55it/s]\n"
     ]
    },
    {
     "name": "stdout",
     "output_type": "stream",
     "text": [
      "caching tasks dataset... done\n",
      "Starting task: c126-session-002-subtask-004\n",
      "Loading parsed dataset failed. Downloading full dataset.\n"
     ]
    },
    {
     "name": "stderr",
     "output_type": "stream",
     "text": [
      "parsing dataset: 100%|██████████| 143/143 [00:02<00:00, 57.91it/s]\n"
     ]
    },
    {
     "name": "stdout",
     "output_type": "stream",
     "text": [
      "caching tasks dataset... done\n",
      "Starting task: c126-session-002-subtask-005\n",
      "Loading parsed dataset failed. Downloading full dataset.\n"
     ]
    },
    {
     "name": "stderr",
     "output_type": "stream",
     "text": [
      "parsing dataset: 100%|██████████| 143/143 [00:02<00:00, 56.40it/s]\n"
     ]
    },
    {
     "name": "stdout",
     "output_type": "stream",
     "text": [
      "caching tasks dataset... done\n",
      "Starting task: c126-session-002-subtask-006\n",
      "Loading parsed dataset failed. Downloading full dataset.\n"
     ]
    },
    {
     "name": "stderr",
     "output_type": "stream",
     "text": [
      "parsing dataset: 100%|██████████| 143/143 [00:02<00:00, 57.38it/s]\n"
     ]
    },
    {
     "name": "stdout",
     "output_type": "stream",
     "text": [
      "caching tasks dataset... done\n",
      "Starting task: c126-session-003-subtask-000\n",
      "Loading parsed dataset failed. Downloading full dataset.\n"
     ]
    },
    {
     "name": "stderr",
     "output_type": "stream",
     "text": [
      "parsing dataset: 100%|██████████| 143/143 [00:02<00:00, 56.97it/s]\n"
     ]
    },
    {
     "name": "stdout",
     "output_type": "stream",
     "text": [
      "caching tasks dataset... done\n",
      "Starting task: c126-session-003-subtask-001\n",
      "Loading parsed dataset failed. Downloading full dataset.\n"
     ]
    },
    {
     "name": "stderr",
     "output_type": "stream",
     "text": [
      "parsing dataset: 100%|██████████| 143/143 [00:02<00:00, 56.42it/s]\n"
     ]
    },
    {
     "name": "stdout",
     "output_type": "stream",
     "text": [
      "caching tasks dataset... done\n",
      "Starting task: c126-session-004-subtask-000\n",
      "Loading parsed dataset failed. Downloading full dataset.\n"
     ]
    },
    {
     "name": "stderr",
     "output_type": "stream",
     "text": [
      "parsing dataset: 100%|██████████| 143/143 [00:02<00:00, 57.15it/s]\n"
     ]
    },
    {
     "name": "stdout",
     "output_type": "stream",
     "text": [
      "caching tasks dataset... done\n",
      "Starting task: c126-session-004-subtask-001\n",
      "Loading parsed dataset failed. Downloading full dataset.\n"
     ]
    },
    {
     "name": "stderr",
     "output_type": "stream",
     "text": [
      "parsing dataset: 100%|██████████| 143/143 [00:02<00:00, 56.17it/s]\n"
     ]
    },
    {
     "name": "stdout",
     "output_type": "stream",
     "text": [
      "caching tasks dataset... done\n",
      "Starting task: c126-session-004-subtask-002\n",
      "Loading parsed dataset failed. Downloading full dataset.\n"
     ]
    },
    {
     "name": "stderr",
     "output_type": "stream",
     "text": [
      "parsing dataset: 100%|██████████| 143/143 [00:02<00:00, 57.07it/s]\n"
     ]
    },
    {
     "name": "stdout",
     "output_type": "stream",
     "text": [
      "caching tasks dataset... done\n",
      "Starting task: c126-session-004-subtask-003\n",
      "Loading parsed dataset failed. Downloading full dataset.\n"
     ]
    },
    {
     "name": "stderr",
     "output_type": "stream",
     "text": [
      "parsing dataset: 100%|██████████| 143/143 [00:02<00:00, 57.24it/s]\n"
     ]
    },
    {
     "name": "stdout",
     "output_type": "stream",
     "text": [
      "caching tasks dataset... done\n",
      "Starting task: c126-session-005-subtask-000\n",
      "Loading parsed dataset failed. Downloading full dataset.\n"
     ]
    },
    {
     "name": "stderr",
     "output_type": "stream",
     "text": [
      "parsing dataset: 100%|██████████| 143/143 [00:02<00:00, 56.77it/s]\n"
     ]
    },
    {
     "name": "stdout",
     "output_type": "stream",
     "text": [
      "caching tasks dataset... done\n",
      "Starting task: c126-session-005-subtask-001\n",
      "Loading parsed dataset failed. Downloading full dataset.\n"
     ]
    },
    {
     "name": "stderr",
     "output_type": "stream",
     "text": [
      "parsing dataset: 100%|██████████| 143/143 [00:02<00:00, 57.34it/s]\n"
     ]
    },
    {
     "name": "stdout",
     "output_type": "stream",
     "text": [
      "caching tasks dataset... done\n",
      "Starting task: c126-session-006-subtask-000\n",
      "Loading parsed dataset failed. Downloading full dataset.\n"
     ]
    },
    {
     "name": "stderr",
     "output_type": "stream",
     "text": [
      "parsing dataset: 100%|██████████| 143/143 [00:02<00:00, 57.23it/s]\n"
     ]
    },
    {
     "name": "stdout",
     "output_type": "stream",
     "text": [
      "caching tasks dataset... done\n",
      "Starting task: c127-session-000-subtask-000\n",
      "Loading parsed dataset failed. Downloading full dataset.\n"
     ]
    },
    {
     "name": "stderr",
     "output_type": "stream",
     "text": [
      "parsing dataset: 100%|██████████| 143/143 [00:02<00:00, 57.19it/s]\n"
     ]
    },
    {
     "name": "stdout",
     "output_type": "stream",
     "text": [
      "caching tasks dataset... done\n",
      "Starting task: c127-session-001-subtask-000\n",
      "Loading parsed dataset failed. Downloading full dataset.\n"
     ]
    },
    {
     "name": "stderr",
     "output_type": "stream",
     "text": [
      "parsing dataset: 100%|██████████| 143/143 [00:02<00:00, 56.28it/s]\n"
     ]
    },
    {
     "name": "stdout",
     "output_type": "stream",
     "text": [
      "caching tasks dataset... done\n",
      "Starting task: c127-session-001-subtask-001\n",
      "Loading parsed dataset failed. Downloading full dataset.\n"
     ]
    },
    {
     "name": "stderr",
     "output_type": "stream",
     "text": [
      "parsing dataset: 100%|██████████| 143/143 [00:02<00:00, 57.70it/s]\n"
     ]
    },
    {
     "name": "stdout",
     "output_type": "stream",
     "text": [
      "caching tasks dataset... done\n",
      "Starting task: c127-session-001-subtask-002\n",
      "Loading parsed dataset failed. Downloading full dataset.\n"
     ]
    },
    {
     "name": "stderr",
     "output_type": "stream",
     "text": [
      "parsing dataset: 100%|██████████| 143/143 [00:02<00:00, 56.89it/s]\n"
     ]
    },
    {
     "name": "stdout",
     "output_type": "stream",
     "text": [
      "caching tasks dataset... done\n",
      "Starting task: c127-session-001-subtask-003\n",
      "Loading parsed dataset failed. Downloading full dataset.\n"
     ]
    },
    {
     "name": "stderr",
     "output_type": "stream",
     "text": [
      "parsing dataset: 100%|██████████| 143/143 [00:02<00:00, 56.67it/s]\n"
     ]
    },
    {
     "name": "stdout",
     "output_type": "stream",
     "text": [
      "caching tasks dataset... done\n",
      "Starting task: c127-session-002-subtask-000\n",
      "Loading parsed dataset failed. Downloading full dataset.\n"
     ]
    },
    {
     "name": "stderr",
     "output_type": "stream",
     "text": [
      "parsing dataset: 100%|██████████| 143/143 [00:02<00:00, 56.47it/s]\n"
     ]
    },
    {
     "name": "stdout",
     "output_type": "stream",
     "text": [
      "caching tasks dataset... done\n",
      "Starting task: c127-session-002-subtask-001\n",
      "Loading parsed dataset failed. Downloading full dataset.\n"
     ]
    },
    {
     "name": "stderr",
     "output_type": "stream",
     "text": [
      "parsing dataset: 100%|██████████| 143/143 [00:02<00:00, 56.34it/s]\n"
     ]
    },
    {
     "name": "stdout",
     "output_type": "stream",
     "text": [
      "caching tasks dataset... done\n",
      "Starting task: c127-session-002-subtask-002\n",
      "Loading parsed dataset failed. Downloading full dataset.\n"
     ]
    },
    {
     "name": "stderr",
     "output_type": "stream",
     "text": [
      "parsing dataset: 100%|██████████| 143/143 [00:02<00:00, 56.95it/s]\n"
     ]
    },
    {
     "name": "stdout",
     "output_type": "stream",
     "text": [
      "caching tasks dataset... done\n",
      "Starting task: c127-session-002-subtask-003\n",
      "Loading parsed dataset failed. Downloading full dataset.\n"
     ]
    },
    {
     "name": "stderr",
     "output_type": "stream",
     "text": [
      "parsing dataset: 100%|██████████| 143/143 [00:02<00:00, 57.32it/s]\n"
     ]
    },
    {
     "name": "stdout",
     "output_type": "stream",
     "text": [
      "caching tasks dataset... done\n",
      "Starting task: c127-session-003-subtask-000\n",
      "Loading parsed dataset failed. Downloading full dataset.\n"
     ]
    },
    {
     "name": "stderr",
     "output_type": "stream",
     "text": [
      "parsing dataset: 100%|██████████| 143/143 [00:02<00:00, 57.23it/s]\n"
     ]
    },
    {
     "name": "stdout",
     "output_type": "stream",
     "text": [
      "caching tasks dataset... done\n",
      "Starting task: c127-session-004-subtask-000\n",
      "Loading parsed dataset failed. Downloading full dataset.\n"
     ]
    },
    {
     "name": "stderr",
     "output_type": "stream",
     "text": [
      "parsing dataset: 100%|██████████| 143/143 [00:02<00:00, 57.09it/s]\n"
     ]
    },
    {
     "name": "stdout",
     "output_type": "stream",
     "text": [
      "caching tasks dataset... done\n",
      "Starting task: c127-session-005-subtask-000\n",
      "Loading parsed dataset failed. Downloading full dataset.\n"
     ]
    },
    {
     "name": "stderr",
     "output_type": "stream",
     "text": [
      "parsing dataset: 100%|██████████| 143/143 [00:02<00:00, 58.12it/s]\n"
     ]
    },
    {
     "name": "stdout",
     "output_type": "stream",
     "text": [
      "caching tasks dataset... done\n",
      "Starting task: c127-session-005-subtask-001\n",
      "Loading parsed dataset failed. Downloading full dataset.\n"
     ]
    },
    {
     "name": "stderr",
     "output_type": "stream",
     "text": [
      "parsing dataset: 100%|██████████| 143/143 [00:02<00:00, 58.15it/s]\n"
     ]
    },
    {
     "name": "stdout",
     "output_type": "stream",
     "text": [
      "caching tasks dataset... done\n",
      "Starting task: c127-session-005-subtask-002\n",
      "Loading parsed dataset failed. Downloading full dataset.\n"
     ]
    },
    {
     "name": "stderr",
     "output_type": "stream",
     "text": [
      "parsing dataset: 100%|██████████| 143/143 [00:02<00:00, 57.22it/s]\n"
     ]
    },
    {
     "name": "stdout",
     "output_type": "stream",
     "text": [
      "caching tasks dataset... done\n",
      "Starting task: c127-session-005-subtask-003\n",
      "Loading parsed dataset failed. Downloading full dataset.\n"
     ]
    },
    {
     "name": "stderr",
     "output_type": "stream",
     "text": [
      "parsing dataset: 100%|██████████| 143/143 [00:02<00:00, 58.19it/s]\n"
     ]
    },
    {
     "name": "stdout",
     "output_type": "stream",
     "text": [
      "caching tasks dataset... done\n",
      "Starting task: c127-session-005-subtask-004\n",
      "Loading parsed dataset failed. Downloading full dataset.\n"
     ]
    },
    {
     "name": "stderr",
     "output_type": "stream",
     "text": [
      "parsing dataset: 100%|██████████| 143/143 [00:02<00:00, 59.15it/s]\n"
     ]
    },
    {
     "name": "stdout",
     "output_type": "stream",
     "text": [
      "caching tasks dataset... done\n",
      "Starting task: c127-session-006-subtask-000\n",
      "Loading parsed dataset failed. Downloading full dataset.\n"
     ]
    },
    {
     "name": "stderr",
     "output_type": "stream",
     "text": [
      "parsing dataset: 100%|██████████| 143/143 [00:02<00:00, 59.08it/s]\n"
     ]
    },
    {
     "name": "stdout",
     "output_type": "stream",
     "text": [
      "caching tasks dataset... done\n",
      "Starting task: c127-session-006-subtask-001\n",
      "Loading parsed dataset failed. Downloading full dataset.\n"
     ]
    },
    {
     "name": "stderr",
     "output_type": "stream",
     "text": [
      "parsing dataset: 100%|██████████| 143/143 [00:02<00:00, 57.85it/s]\n"
     ]
    },
    {
     "name": "stdout",
     "output_type": "stream",
     "text": [
      "caching tasks dataset... done\n",
      "Starting task: c127-session-006-subtask-002\n",
      "Loading parsed dataset failed. Downloading full dataset.\n"
     ]
    },
    {
     "name": "stderr",
     "output_type": "stream",
     "text": [
      "parsing dataset: 100%|██████████| 143/143 [00:02<00:00, 59.10it/s]\n"
     ]
    },
    {
     "name": "stdout",
     "output_type": "stream",
     "text": [
      "caching tasks dataset... done\n",
      "Starting task: c127-session-006-subtask-003\n",
      "Loading parsed dataset failed. Downloading full dataset.\n"
     ]
    },
    {
     "name": "stderr",
     "output_type": "stream",
     "text": [
      "parsing dataset: 100%|██████████| 143/143 [00:02<00:00, 57.24it/s]\n"
     ]
    },
    {
     "name": "stdout",
     "output_type": "stream",
     "text": [
      "caching tasks dataset... done\n",
      "Starting task: c127-session-006-subtask-004\n",
      "Loading parsed dataset failed. Downloading full dataset.\n"
     ]
    },
    {
     "name": "stderr",
     "output_type": "stream",
     "text": [
      "parsing dataset: 100%|██████████| 143/143 [00:02<00:00, 58.06it/s]\n"
     ]
    },
    {
     "name": "stdout",
     "output_type": "stream",
     "text": [
      "caching tasks dataset... done\n",
      "Starting task: c127-session-006-subtask-005\n",
      "Loading parsed dataset failed. Downloading full dataset.\n"
     ]
    },
    {
     "name": "stderr",
     "output_type": "stream",
     "text": [
      "parsing dataset: 100%|██████████| 143/143 [00:02<00:00, 58.31it/s]\n"
     ]
    },
    {
     "name": "stdout",
     "output_type": "stream",
     "text": [
      "caching tasks dataset... done\n",
      "Starting task: c127-session-006-subtask-006\n",
      "Loading parsed dataset failed. Downloading full dataset.\n"
     ]
    },
    {
     "name": "stderr",
     "output_type": "stream",
     "text": [
      "parsing dataset: 100%|██████████| 143/143 [00:02<00:00, 56.82it/s]\n"
     ]
    },
    {
     "name": "stdout",
     "output_type": "stream",
     "text": [
      "caching tasks dataset... done\n",
      "Starting task: c127-session-006-subtask-007\n",
      "Loading parsed dataset failed. Downloading full dataset.\n"
     ]
    },
    {
     "name": "stderr",
     "output_type": "stream",
     "text": [
      "parsing dataset: 100%|██████████| 143/143 [00:02<00:00, 57.89it/s]\n"
     ]
    },
    {
     "name": "stdout",
     "output_type": "stream",
     "text": [
      "caching tasks dataset... done\n",
      "Starting task: c127-session-006-subtask-008\n",
      "Loading parsed dataset failed. Downloading full dataset.\n"
     ]
    },
    {
     "name": "stderr",
     "output_type": "stream",
     "text": [
      "parsing dataset: 100%|██████████| 143/143 [00:02<00:00, 56.31it/s]\n"
     ]
    },
    {
     "name": "stdout",
     "output_type": "stream",
     "text": [
      "caching tasks dataset... done\n",
      "Starting task: c127-session-006-subtask-009\n",
      "Loading parsed dataset failed. Downloading full dataset.\n"
     ]
    },
    {
     "name": "stderr",
     "output_type": "stream",
     "text": [
      "parsing dataset: 100%|██████████| 143/143 [00:02<00:00, 57.83it/s]\n"
     ]
    },
    {
     "name": "stdout",
     "output_type": "stream",
     "text": [
      "caching tasks dataset... done\n",
      "Starting task: c127-session-006-subtask-010\n",
      "Loading parsed dataset failed. Downloading full dataset.\n"
     ]
    },
    {
     "name": "stderr",
     "output_type": "stream",
     "text": [
      "parsing dataset: 100%|██████████| 143/143 [00:02<00:00, 57.49it/s]\n"
     ]
    },
    {
     "name": "stdout",
     "output_type": "stream",
     "text": [
      "caching tasks dataset... done\n",
      "Starting task: c127-session-006-subtask-011\n",
      "Loading parsed dataset failed. Downloading full dataset.\n"
     ]
    },
    {
     "name": "stderr",
     "output_type": "stream",
     "text": [
      "parsing dataset: 100%|██████████| 143/143 [00:02<00:00, 57.13it/s]\n"
     ]
    },
    {
     "name": "stdout",
     "output_type": "stream",
     "text": [
      "caching tasks dataset... done\n",
      "Starting task: c127-session-007-subtask-000\n",
      "Loading parsed dataset failed. Downloading full dataset.\n"
     ]
    },
    {
     "name": "stderr",
     "output_type": "stream",
     "text": [
      "parsing dataset: 100%|██████████| 143/143 [00:02<00:00, 58.23it/s]\n"
     ]
    },
    {
     "name": "stdout",
     "output_type": "stream",
     "text": [
      "caching tasks dataset... done\n",
      "Starting task: c139-session-000-subtask-000\n",
      "Loading parsed dataset failed. Downloading full dataset.\n"
     ]
    },
    {
     "name": "stderr",
     "output_type": "stream",
     "text": [
      "parsing dataset: 100%|██████████| 143/143 [00:02<00:00, 58.66it/s]\n"
     ]
    },
    {
     "name": "stdout",
     "output_type": "stream",
     "text": [
      "caching tasks dataset... done\n",
      "Starting task: c139-session-001-subtask-000\n",
      "Loading parsed dataset failed. Downloading full dataset.\n"
     ]
    },
    {
     "name": "stderr",
     "output_type": "stream",
     "text": [
      "parsing dataset: 100%|██████████| 143/143 [00:02<00:00, 58.39it/s]\n"
     ]
    },
    {
     "name": "stdout",
     "output_type": "stream",
     "text": [
      "caching tasks dataset... done\n",
      "Starting task: c139-session-001-subtask-001\n",
      "Loading parsed dataset failed. Downloading full dataset.\n"
     ]
    },
    {
     "name": "stderr",
     "output_type": "stream",
     "text": [
      "parsing dataset: 100%|██████████| 143/143 [00:02<00:00, 58.51it/s]\n"
     ]
    },
    {
     "name": "stdout",
     "output_type": "stream",
     "text": [
      "caching tasks dataset... done\n",
      "Starting task: c139-session-002-subtask-000\n",
      "Loading parsed dataset failed. Downloading full dataset.\n"
     ]
    },
    {
     "name": "stderr",
     "output_type": "stream",
     "text": [
      "parsing dataset: 100%|██████████| 143/143 [00:02<00:00, 57.92it/s]\n"
     ]
    },
    {
     "name": "stdout",
     "output_type": "stream",
     "text": [
      "caching tasks dataset... done\n",
      "Starting task: c139-session-002-subtask-001\n",
      "Loading parsed dataset failed. Downloading full dataset.\n"
     ]
    },
    {
     "name": "stderr",
     "output_type": "stream",
     "text": [
      "parsing dataset: 100%|██████████| 143/143 [00:02<00:00, 58.44it/s]\n"
     ]
    },
    {
     "name": "stdout",
     "output_type": "stream",
     "text": [
      "caching tasks dataset... done\n",
      "Starting task: c139-session-002-subtask-002\n",
      "Loading parsed dataset failed. Downloading full dataset.\n"
     ]
    },
    {
     "name": "stderr",
     "output_type": "stream",
     "text": [
      "parsing dataset: 100%|██████████| 143/143 [00:02<00:00, 56.54it/s]\n"
     ]
    },
    {
     "name": "stdout",
     "output_type": "stream",
     "text": [
      "caching tasks dataset... done\n",
      "Starting task: c139-session-002-subtask-003\n",
      "Loading parsed dataset failed. Downloading full dataset.\n"
     ]
    },
    {
     "name": "stderr",
     "output_type": "stream",
     "text": [
      "parsing dataset: 100%|██████████| 143/143 [00:02<00:00, 57.26it/s]\n"
     ]
    },
    {
     "name": "stdout",
     "output_type": "stream",
     "text": [
      "caching tasks dataset... done\n",
      "Starting task: c139-session-002-subtask-004\n",
      "Loading parsed dataset failed. Downloading full dataset.\n"
     ]
    },
    {
     "name": "stderr",
     "output_type": "stream",
     "text": [
      "parsing dataset: 100%|██████████| 143/143 [00:02<00:00, 56.99it/s]\n"
     ]
    },
    {
     "name": "stdout",
     "output_type": "stream",
     "text": [
      "caching tasks dataset... done\n",
      "Starting task: c139-session-002-subtask-005\n",
      "Loading parsed dataset failed. Downloading full dataset.\n"
     ]
    },
    {
     "name": "stderr",
     "output_type": "stream",
     "text": [
      "parsing dataset: 100%|██████████| 143/143 [00:02<00:00, 55.53it/s]\n"
     ]
    },
    {
     "name": "stdout",
     "output_type": "stream",
     "text": [
      "caching tasks dataset... done\n",
      "Starting task: c139-session-002-subtask-006\n",
      "Loading parsed dataset failed. Downloading full dataset.\n"
     ]
    },
    {
     "name": "stderr",
     "output_type": "stream",
     "text": [
      "parsing dataset: 100%|██████████| 143/143 [00:02<00:00, 57.58it/s]\n"
     ]
    },
    {
     "name": "stdout",
     "output_type": "stream",
     "text": [
      "caching tasks dataset... done\n",
      "Starting task: c139-session-002-subtask-007\n",
      "Loading parsed dataset failed. Downloading full dataset.\n"
     ]
    },
    {
     "name": "stderr",
     "output_type": "stream",
     "text": [
      "parsing dataset: 100%|██████████| 143/143 [00:02<00:00, 58.35it/s]\n"
     ]
    },
    {
     "name": "stdout",
     "output_type": "stream",
     "text": [
      "caching tasks dataset... done\n",
      "Starting task: c139-session-002-subtask-008\n",
      "Loading parsed dataset failed. Downloading full dataset.\n"
     ]
    },
    {
     "name": "stderr",
     "output_type": "stream",
     "text": [
      "parsing dataset: 100%|██████████| 143/143 [00:02<00:00, 57.78it/s]\n"
     ]
    },
    {
     "name": "stdout",
     "output_type": "stream",
     "text": [
      "caching tasks dataset... done\n",
      "Starting task: c139-session-002-subtask-009\n",
      "Loading parsed dataset failed. Downloading full dataset.\n"
     ]
    },
    {
     "name": "stderr",
     "output_type": "stream",
     "text": [
      "parsing dataset: 100%|██████████| 143/143 [00:02<00:00, 56.45it/s]\n"
     ]
    },
    {
     "name": "stdout",
     "output_type": "stream",
     "text": [
      "caching tasks dataset... done\n",
      "Starting task: c139-session-002-subtask-010\n",
      "Loading parsed dataset failed. Downloading full dataset.\n"
     ]
    },
    {
     "name": "stderr",
     "output_type": "stream",
     "text": [
      "parsing dataset: 100%|██████████| 143/143 [00:02<00:00, 57.05it/s]\n"
     ]
    },
    {
     "name": "stdout",
     "output_type": "stream",
     "text": [
      "caching tasks dataset... done\n",
      "Starting task: c139-session-002-subtask-011\n",
      "Loading parsed dataset failed. Downloading full dataset.\n"
     ]
    },
    {
     "name": "stderr",
     "output_type": "stream",
     "text": [
      "parsing dataset: 100%|██████████| 143/143 [00:02<00:00, 58.20it/s]\n"
     ]
    },
    {
     "name": "stdout",
     "output_type": "stream",
     "text": [
      "caching tasks dataset... done\n",
      "Starting task: c139-session-003-subtask-000\n",
      "Loading parsed dataset failed. Downloading full dataset.\n"
     ]
    },
    {
     "name": "stderr",
     "output_type": "stream",
     "text": [
      "parsing dataset: 100%|██████████| 143/143 [00:02<00:00, 58.52it/s]\n"
     ]
    },
    {
     "name": "stdout",
     "output_type": "stream",
     "text": [
      "caching tasks dataset... done\n",
      "Starting task: c139-session-003-subtask-001\n",
      "Loading parsed dataset failed. Downloading full dataset.\n"
     ]
    },
    {
     "name": "stderr",
     "output_type": "stream",
     "text": [
      "parsing dataset: 100%|██████████| 143/143 [00:02<00:00, 58.11it/s]\n"
     ]
    },
    {
     "name": "stdout",
     "output_type": "stream",
     "text": [
      "caching tasks dataset... done\n",
      "Starting task: c139-session-003-subtask-002\n",
      "Loading parsed dataset failed. Downloading full dataset.\n"
     ]
    },
    {
     "name": "stderr",
     "output_type": "stream",
     "text": [
      "parsing dataset: 100%|██████████| 143/143 [00:02<00:00, 57.80it/s]\n"
     ]
    },
    {
     "name": "stdout",
     "output_type": "stream",
     "text": [
      "caching tasks dataset... done\n",
      "Starting task: c139-session-003-subtask-003\n",
      "Loading parsed dataset failed. Downloading full dataset.\n"
     ]
    },
    {
     "name": "stderr",
     "output_type": "stream",
     "text": [
      "parsing dataset: 100%|██████████| 143/143 [00:02<00:00, 58.83it/s]\n"
     ]
    },
    {
     "name": "stdout",
     "output_type": "stream",
     "text": [
      "caching tasks dataset... done\n",
      "Starting task: c139-session-003-subtask-004\n",
      "Loading parsed dataset failed. Downloading full dataset.\n"
     ]
    },
    {
     "name": "stderr",
     "output_type": "stream",
     "text": [
      "parsing dataset: 100%|██████████| 143/143 [00:02<00:00, 58.64it/s]\n"
     ]
    },
    {
     "name": "stdout",
     "output_type": "stream",
     "text": [
      "caching tasks dataset... done\n",
      "Starting task: c139-session-004-subtask-000\n",
      "Loading parsed dataset failed. Downloading full dataset.\n"
     ]
    },
    {
     "name": "stderr",
     "output_type": "stream",
     "text": [
      "parsing dataset: 100%|██████████| 143/143 [00:02<00:00, 58.51it/s]\n"
     ]
    },
    {
     "name": "stdout",
     "output_type": "stream",
     "text": [
      "caching tasks dataset... done\n",
      "Starting task: c139-session-004-subtask-001\n",
      "Loading parsed dataset failed. Downloading full dataset.\n"
     ]
    },
    {
     "name": "stderr",
     "output_type": "stream",
     "text": [
      "parsing dataset: 100%|██████████| 143/143 [00:02<00:00, 56.22it/s]\n"
     ]
    },
    {
     "name": "stdout",
     "output_type": "stream",
     "text": [
      "caching tasks dataset... done\n",
      "Starting task: c139-session-004-subtask-002\n",
      "Loading parsed dataset failed. Downloading full dataset.\n"
     ]
    },
    {
     "name": "stderr",
     "output_type": "stream",
     "text": [
      "parsing dataset: 100%|██████████| 143/143 [00:02<00:00, 57.23it/s]\n"
     ]
    },
    {
     "name": "stdout",
     "output_type": "stream",
     "text": [
      "caching tasks dataset... done\n",
      "Starting task: c139-session-004-subtask-003\n",
      "Loading parsed dataset failed. Downloading full dataset.\n"
     ]
    },
    {
     "name": "stderr",
     "output_type": "stream",
     "text": [
      "parsing dataset: 100%|██████████| 143/143 [00:02<00:00, 57.46it/s]\n"
     ]
    },
    {
     "name": "stdout",
     "output_type": "stream",
     "text": [
      "caching tasks dataset... done\n",
      "Starting task: c139-session-004-subtask-004\n",
      "Loading parsed dataset failed. Downloading full dataset.\n"
     ]
    },
    {
     "name": "stderr",
     "output_type": "stream",
     "text": [
      "parsing dataset: 100%|██████████| 143/143 [00:02<00:00, 58.69it/s]\n"
     ]
    },
    {
     "name": "stdout",
     "output_type": "stream",
     "text": [
      "caching tasks dataset... done\n",
      "Starting task: c139-session-004-subtask-005\n",
      "Loading parsed dataset failed. Downloading full dataset.\n"
     ]
    },
    {
     "name": "stderr",
     "output_type": "stream",
     "text": [
      "parsing dataset: 100%|██████████| 143/143 [00:02<00:00, 58.80it/s]\n"
     ]
    },
    {
     "name": "stdout",
     "output_type": "stream",
     "text": [
      "caching tasks dataset... done\n",
      "Starting task: c139-session-004-subtask-006\n",
      "Loading parsed dataset failed. Downloading full dataset.\n"
     ]
    },
    {
     "name": "stderr",
     "output_type": "stream",
     "text": [
      "parsing dataset: 100%|██████████| 143/143 [00:02<00:00, 58.38it/s]\n"
     ]
    },
    {
     "name": "stdout",
     "output_type": "stream",
     "text": [
      "caching tasks dataset... done\n",
      "Starting task: c139-session-004-subtask-007\n",
      "Loading parsed dataset failed. Downloading full dataset.\n"
     ]
    },
    {
     "name": "stderr",
     "output_type": "stream",
     "text": [
      "parsing dataset: 100%|██████████| 143/143 [00:02<00:00, 58.31it/s]\n"
     ]
    },
    {
     "name": "stdout",
     "output_type": "stream",
     "text": [
      "caching tasks dataset... done\n",
      "Starting task: c139-session-004-subtask-008\n",
      "Loading parsed dataset failed. Downloading full dataset.\n"
     ]
    },
    {
     "name": "stderr",
     "output_type": "stream",
     "text": [
      "parsing dataset: 100%|██████████| 143/143 [00:02<00:00, 57.90it/s]\n"
     ]
    },
    {
     "name": "stdout",
     "output_type": "stream",
     "text": [
      "caching tasks dataset... done\n",
      "Starting task: c139-session-004-subtask-009\n",
      "Loading parsed dataset failed. Downloading full dataset.\n"
     ]
    },
    {
     "name": "stderr",
     "output_type": "stream",
     "text": [
      "parsing dataset: 100%|██████████| 143/143 [00:02<00:00, 59.29it/s]\n"
     ]
    },
    {
     "name": "stdout",
     "output_type": "stream",
     "text": [
      "caching tasks dataset... done\n",
      "Starting task: c139-session-004-subtask-010\n",
      "Loading parsed dataset failed. Downloading full dataset.\n"
     ]
    },
    {
     "name": "stderr",
     "output_type": "stream",
     "text": [
      "parsing dataset: 100%|██████████| 143/143 [00:02<00:00, 57.09it/s]\n"
     ]
    },
    {
     "name": "stdout",
     "output_type": "stream",
     "text": [
      "caching tasks dataset... done\n",
      "Starting task: c139-session-004-subtask-011\n",
      "Loading parsed dataset failed. Downloading full dataset.\n"
     ]
    },
    {
     "name": "stderr",
     "output_type": "stream",
     "text": [
      "parsing dataset: 100%|██████████| 143/143 [00:02<00:00, 57.95it/s]\n"
     ]
    },
    {
     "name": "stdout",
     "output_type": "stream",
     "text": [
      "caching tasks dataset... done\n",
      "Starting task: c139-session-004-subtask-012\n",
      "Loading parsed dataset failed. Downloading full dataset.\n"
     ]
    },
    {
     "name": "stderr",
     "output_type": "stream",
     "text": [
      "parsing dataset: 100%|██████████| 143/143 [00:02<00:00, 57.21it/s]\n"
     ]
    },
    {
     "name": "stdout",
     "output_type": "stream",
     "text": [
      "caching tasks dataset... done\n",
      "Starting task: c139-session-004-subtask-013\n",
      "Loading parsed dataset failed. Downloading full dataset.\n"
     ]
    },
    {
     "name": "stderr",
     "output_type": "stream",
     "text": [
      "parsing dataset: 100%|██████████| 143/143 [00:02<00:00, 55.65it/s]\n"
     ]
    },
    {
     "name": "stdout",
     "output_type": "stream",
     "text": [
      "caching tasks dataset... done\n",
      "Starting task: c139-session-005-subtask-000\n",
      "Loading parsed dataset failed. Downloading full dataset.\n"
     ]
    },
    {
     "name": "stderr",
     "output_type": "stream",
     "text": [
      "parsing dataset: 100%|██████████| 143/143 [00:02<00:00, 57.04it/s]\n"
     ]
    },
    {
     "name": "stdout",
     "output_type": "stream",
     "text": [
      "caching tasks dataset... done\n",
      "Starting task: c139-session-005-subtask-001\n",
      "Loading parsed dataset failed. Downloading full dataset.\n"
     ]
    },
    {
     "name": "stderr",
     "output_type": "stream",
     "text": [
      "parsing dataset: 100%|██████████| 143/143 [00:02<00:00, 57.21it/s]\n"
     ]
    },
    {
     "name": "stdout",
     "output_type": "stream",
     "text": [
      "caching tasks dataset... done\n",
      "Starting task: c139-session-005-subtask-002\n",
      "Loading parsed dataset failed. Downloading full dataset.\n"
     ]
    },
    {
     "name": "stderr",
     "output_type": "stream",
     "text": [
      "parsing dataset: 100%|██████████| 143/143 [00:02<00:00, 56.79it/s]\n"
     ]
    },
    {
     "name": "stdout",
     "output_type": "stream",
     "text": [
      "caching tasks dataset... done\n",
      "Starting task: c139-session-005-subtask-003\n",
      "Loading parsed dataset failed. Downloading full dataset.\n"
     ]
    },
    {
     "name": "stderr",
     "output_type": "stream",
     "text": [
      "parsing dataset: 100%|██████████| 143/143 [00:02<00:00, 57.70it/s]\n"
     ]
    },
    {
     "name": "stdout",
     "output_type": "stream",
     "text": [
      "caching tasks dataset... done\n",
      "Starting task: c139-session-005-subtask-004\n",
      "Loading parsed dataset failed. Downloading full dataset.\n"
     ]
    },
    {
     "name": "stderr",
     "output_type": "stream",
     "text": [
      "parsing dataset: 100%|██████████| 143/143 [00:02<00:00, 56.12it/s]\n"
     ]
    },
    {
     "name": "stdout",
     "output_type": "stream",
     "text": [
      "caching tasks dataset... done\n",
      "Starting task: c139-session-006-subtask-000\n",
      "Loading parsed dataset failed. Downloading full dataset.\n"
     ]
    },
    {
     "name": "stderr",
     "output_type": "stream",
     "text": [
      "parsing dataset: 100%|██████████| 143/143 [00:02<00:00, 57.32it/s]\n"
     ]
    },
    {
     "name": "stdout",
     "output_type": "stream",
     "text": [
      "caching tasks dataset... done\n",
      "Starting task: c139-session-006-subtask-001\n",
      "Loading parsed dataset failed. Downloading full dataset.\n"
     ]
    },
    {
     "name": "stderr",
     "output_type": "stream",
     "text": [
      "parsing dataset: 100%|██████████| 143/143 [00:02<00:00, 58.18it/s]\n"
     ]
    },
    {
     "name": "stdout",
     "output_type": "stream",
     "text": [
      "caching tasks dataset... done\n",
      "Starting task: c139-session-007-subtask-000\n",
      "Loading parsed dataset failed. Downloading full dataset.\n"
     ]
    },
    {
     "name": "stderr",
     "output_type": "stream",
     "text": [
      "parsing dataset: 100%|██████████| 143/143 [00:02<00:00, 58.64it/s]\n"
     ]
    },
    {
     "name": "stdout",
     "output_type": "stream",
     "text": [
      "caching tasks dataset... done\n",
      "Starting task: c139-session-007-subtask-001\n",
      "Loading parsed dataset failed. Downloading full dataset.\n"
     ]
    },
    {
     "name": "stderr",
     "output_type": "stream",
     "text": [
      "parsing dataset: 100%|██████████| 143/143 [00:02<00:00, 57.91it/s]\n"
     ]
    },
    {
     "name": "stdout",
     "output_type": "stream",
     "text": [
      "caching tasks dataset... done\n",
      "Starting task: c139-session-007-subtask-002\n",
      "Loading parsed dataset failed. Downloading full dataset.\n"
     ]
    },
    {
     "name": "stderr",
     "output_type": "stream",
     "text": [
      "parsing dataset: 100%|██████████| 143/143 [00:02<00:00, 59.15it/s]\n"
     ]
    },
    {
     "name": "stdout",
     "output_type": "stream",
     "text": [
      "caching tasks dataset... done\n",
      "Starting task: c139-session-007-subtask-003\n",
      "Loading parsed dataset failed. Downloading full dataset.\n"
     ]
    },
    {
     "name": "stderr",
     "output_type": "stream",
     "text": [
      "parsing dataset: 100%|██████████| 143/143 [00:02<00:00, 58.83it/s]\n"
     ]
    },
    {
     "name": "stdout",
     "output_type": "stream",
     "text": [
      "caching tasks dataset... done\n",
      "Starting task: c139-session-007-subtask-004\n",
      "Loading parsed dataset failed. Downloading full dataset.\n"
     ]
    },
    {
     "name": "stderr",
     "output_type": "stream",
     "text": [
      "parsing dataset: 100%|██████████| 143/143 [00:02<00:00, 57.70it/s]\n"
     ]
    },
    {
     "name": "stdout",
     "output_type": "stream",
     "text": [
      "caching tasks dataset... done\n",
      "Starting task: c139-session-008-subtask-000\n",
      "Loading parsed dataset failed. Downloading full dataset.\n"
     ]
    },
    {
     "name": "stderr",
     "output_type": "stream",
     "text": [
      "parsing dataset: 100%|██████████| 143/143 [00:02<00:00, 57.25it/s]\n"
     ]
    },
    {
     "name": "stdout",
     "output_type": "stream",
     "text": [
      "caching tasks dataset... done\n",
      "Starting task: c139-session-008-subtask-001\n",
      "Loading parsed dataset failed. Downloading full dataset.\n"
     ]
    },
    {
     "name": "stderr",
     "output_type": "stream",
     "text": [
      "parsing dataset: 100%|██████████| 143/143 [00:02<00:00, 59.10it/s]\n"
     ]
    },
    {
     "name": "stdout",
     "output_type": "stream",
     "text": [
      "caching tasks dataset... done\n",
      "Starting task: c139-session-009-subtask-000\n",
      "Loading parsed dataset failed. Downloading full dataset.\n"
     ]
    },
    {
     "name": "stderr",
     "output_type": "stream",
     "text": [
      "parsing dataset: 100%|██████████| 143/143 [00:02<00:00, 58.59it/s]\n"
     ]
    },
    {
     "name": "stdout",
     "output_type": "stream",
     "text": [
      "caching tasks dataset... done\n",
      "Starting task: c139-session-009-subtask-001\n",
      "Loading parsed dataset failed. Downloading full dataset.\n"
     ]
    },
    {
     "name": "stderr",
     "output_type": "stream",
     "text": [
      "parsing dataset: 100%|██████████| 143/143 [00:02<00:00, 57.52it/s]\n"
     ]
    },
    {
     "name": "stdout",
     "output_type": "stream",
     "text": [
      "caching tasks dataset... done\n",
      "Starting task: c139-session-009-subtask-002\n",
      "Loading parsed dataset failed. Downloading full dataset.\n"
     ]
    },
    {
     "name": "stderr",
     "output_type": "stream",
     "text": [
      "parsing dataset: 100%|██████████| 143/143 [00:02<00:00, 58.76it/s]\n"
     ]
    },
    {
     "name": "stdout",
     "output_type": "stream",
     "text": [
      "caching tasks dataset... done\n",
      "Starting task: c139-session-009-subtask-003\n",
      "Loading parsed dataset failed. Downloading full dataset.\n"
     ]
    },
    {
     "name": "stderr",
     "output_type": "stream",
     "text": [
      "parsing dataset: 100%|██████████| 143/143 [00:02<00:00, 57.93it/s]\n"
     ]
    },
    {
     "name": "stdout",
     "output_type": "stream",
     "text": [
      "caching tasks dataset... done\n",
      "Starting task: c139-session-010-subtask-000\n",
      "Loading parsed dataset failed. Downloading full dataset.\n"
     ]
    },
    {
     "name": "stderr",
     "output_type": "stream",
     "text": [
      "parsing dataset: 100%|██████████| 143/143 [00:02<00:00, 58.27it/s]\n"
     ]
    },
    {
     "name": "stdout",
     "output_type": "stream",
     "text": [
      "caching tasks dataset... done\n",
      "Starting task: c139-session-010-subtask-001\n",
      "Loading parsed dataset failed. Downloading full dataset.\n"
     ]
    },
    {
     "name": "stderr",
     "output_type": "stream",
     "text": [
      "parsing dataset: 100%|██████████| 143/143 [00:02<00:00, 58.15it/s]\n"
     ]
    },
    {
     "name": "stdout",
     "output_type": "stream",
     "text": [
      "caching tasks dataset... done\n",
      "Starting task: c139-session-010-subtask-002\n",
      "Loading parsed dataset failed. Downloading full dataset.\n"
     ]
    },
    {
     "name": "stderr",
     "output_type": "stream",
     "text": [
      "parsing dataset: 100%|██████████| 143/143 [00:02<00:00, 58.38it/s]\n"
     ]
    },
    {
     "name": "stdout",
     "output_type": "stream",
     "text": [
      "caching tasks dataset... done\n",
      "Starting task: c139-session-010-subtask-003\n",
      "Loading parsed dataset failed. Downloading full dataset.\n"
     ]
    },
    {
     "name": "stderr",
     "output_type": "stream",
     "text": [
      "parsing dataset: 100%|██████████| 143/143 [00:02<00:00, 57.66it/s]\n"
     ]
    },
    {
     "name": "stdout",
     "output_type": "stream",
     "text": [
      "caching tasks dataset... done\n",
      "Starting task: c139-session-010-subtask-004\n",
      "Loading parsed dataset failed. Downloading full dataset.\n"
     ]
    },
    {
     "name": "stderr",
     "output_type": "stream",
     "text": [
      "parsing dataset: 100%|██████████| 143/143 [00:02<00:00, 57.24it/s]\n"
     ]
    },
    {
     "name": "stdout",
     "output_type": "stream",
     "text": [
      "caching tasks dataset... done\n",
      "Starting task: c18-session-000-subtask-000\n",
      "Loading parsed dataset failed. Downloading full dataset.\n"
     ]
    },
    {
     "name": "stderr",
     "output_type": "stream",
     "text": [
      "parsing dataset: 100%|██████████| 143/143 [00:02<00:00, 55.74it/s]\n"
     ]
    },
    {
     "name": "stdout",
     "output_type": "stream",
     "text": [
      "caching tasks dataset... done\n",
      "Starting task: c18-session-001-subtask-000\n",
      "Loading parsed dataset failed. Downloading full dataset.\n"
     ]
    },
    {
     "name": "stderr",
     "output_type": "stream",
     "text": [
      "parsing dataset: 100%|██████████| 143/143 [00:02<00:00, 57.07it/s]\n"
     ]
    },
    {
     "name": "stdout",
     "output_type": "stream",
     "text": [
      "caching tasks dataset... done\n",
      "Starting task: c18-session-001-subtask-001\n",
      "Loading parsed dataset failed. Downloading full dataset.\n"
     ]
    },
    {
     "name": "stderr",
     "output_type": "stream",
     "text": [
      "parsing dataset: 100%|██████████| 143/143 [00:02<00:00, 57.72it/s]\n"
     ]
    },
    {
     "name": "stdout",
     "output_type": "stream",
     "text": [
      "caching tasks dataset... done\n",
      "Starting task: c18-session-001-subtask-002\n",
      "Loading parsed dataset failed. Downloading full dataset.\n"
     ]
    },
    {
     "name": "stderr",
     "output_type": "stream",
     "text": [
      "parsing dataset: 100%|██████████| 143/143 [00:02<00:00, 57.55it/s]\n"
     ]
    },
    {
     "name": "stdout",
     "output_type": "stream",
     "text": [
      "caching tasks dataset... done\n",
      "Starting task: c18-session-001-subtask-003\n",
      "Loading parsed dataset failed. Downloading full dataset.\n"
     ]
    },
    {
     "name": "stderr",
     "output_type": "stream",
     "text": [
      "parsing dataset: 100%|██████████| 143/143 [00:02<00:00, 56.87it/s]\n"
     ]
    },
    {
     "name": "stdout",
     "output_type": "stream",
     "text": [
      "caching tasks dataset... done\n",
      "Starting task: c18-session-001-subtask-004\n",
      "Loading parsed dataset failed. Downloading full dataset.\n"
     ]
    },
    {
     "name": "stderr",
     "output_type": "stream",
     "text": [
      "parsing dataset: 100%|██████████| 143/143 [00:02<00:00, 57.72it/s]\n"
     ]
    },
    {
     "name": "stdout",
     "output_type": "stream",
     "text": [
      "caching tasks dataset... done\n",
      "Starting task: c18-session-002-subtask-000\n",
      "Loading parsed dataset failed. Downloading full dataset.\n"
     ]
    },
    {
     "name": "stderr",
     "output_type": "stream",
     "text": [
      "parsing dataset: 100%|██████████| 143/143 [00:02<00:00, 57.83it/s]\n"
     ]
    },
    {
     "name": "stdout",
     "output_type": "stream",
     "text": [
      "caching tasks dataset... done\n",
      "Starting task: c18-session-003-subtask-000\n",
      "Loading parsed dataset failed. Downloading full dataset.\n"
     ]
    },
    {
     "name": "stderr",
     "output_type": "stream",
     "text": [
      "parsing dataset: 100%|██████████| 143/143 [00:02<00:00, 57.94it/s]\n"
     ]
    },
    {
     "name": "stdout",
     "output_type": "stream",
     "text": [
      "caching tasks dataset... done\n",
      "Starting task: c18-session-003-subtask-001\n",
      "Loading parsed dataset failed. Downloading full dataset.\n"
     ]
    },
    {
     "name": "stderr",
     "output_type": "stream",
     "text": [
      "parsing dataset: 100%|██████████| 143/143 [00:02<00:00, 57.20it/s]\n"
     ]
    },
    {
     "name": "stdout",
     "output_type": "stream",
     "text": [
      "caching tasks dataset... done\n",
      "Starting task: c29-session-000-subtask-000\n",
      "Loading parsed dataset failed. Downloading full dataset.\n"
     ]
    },
    {
     "name": "stderr",
     "output_type": "stream",
     "text": [
      "parsing dataset: 100%|██████████| 143/143 [00:02<00:00, 58.39it/s]\n"
     ]
    },
    {
     "name": "stdout",
     "output_type": "stream",
     "text": [
      "caching tasks dataset... done\n",
      "Starting task: c29-session-001-subtask-000\n",
      "Loading parsed dataset failed. Downloading full dataset.\n"
     ]
    },
    {
     "name": "stderr",
     "output_type": "stream",
     "text": [
      "parsing dataset: 100%|██████████| 143/143 [00:02<00:00, 58.44it/s]\n"
     ]
    },
    {
     "name": "stdout",
     "output_type": "stream",
     "text": [
      "caching tasks dataset... done\n",
      "Starting task: c36-session-000-subtask-000\n",
      "Loading parsed dataset failed. Downloading full dataset.\n"
     ]
    },
    {
     "name": "stderr",
     "output_type": "stream",
     "text": [
      "parsing dataset: 100%|██████████| 143/143 [00:02<00:00, 58.43it/s]\n"
     ]
    },
    {
     "name": "stdout",
     "output_type": "stream",
     "text": [
      "caching tasks dataset... done\n",
      "Starting task: c36-session-001-subtask-000\n",
      "Loading parsed dataset failed. Downloading full dataset.\n"
     ]
    },
    {
     "name": "stderr",
     "output_type": "stream",
     "text": [
      "parsing dataset: 100%|██████████| 143/143 [00:02<00:00, 56.46it/s]\n"
     ]
    },
    {
     "name": "stdout",
     "output_type": "stream",
     "text": [
      "caching tasks dataset... done\n",
      "Starting task: c36-session-001-subtask-001\n",
      "Loading parsed dataset failed. Downloading full dataset.\n"
     ]
    },
    {
     "name": "stderr",
     "output_type": "stream",
     "text": [
      "parsing dataset: 100%|██████████| 143/143 [00:02<00:00, 58.55it/s]\n"
     ]
    },
    {
     "name": "stdout",
     "output_type": "stream",
     "text": [
      "caching tasks dataset... done\n",
      "Starting task: c36-session-002-subtask-000\n",
      "Loading parsed dataset failed. Downloading full dataset.\n"
     ]
    },
    {
     "name": "stderr",
     "output_type": "stream",
     "text": [
      "parsing dataset: 100%|██████████| 143/143 [00:02<00:00, 58.16it/s]\n"
     ]
    },
    {
     "name": "stdout",
     "output_type": "stream",
     "text": [
      "caching tasks dataset... done\n",
      "Starting task: c92-session-000-subtask-000\n",
      "Loading parsed dataset failed. Downloading full dataset.\n"
     ]
    },
    {
     "name": "stderr",
     "output_type": "stream",
     "text": [
      "parsing dataset: 100%|██████████| 143/143 [00:02<00:00, 58.63it/s]\n"
     ]
    },
    {
     "name": "stdout",
     "output_type": "stream",
     "text": [
      "caching tasks dataset... done\n",
      "Starting task: c92-session-000-subtask-001\n",
      "Loading parsed dataset failed. Downloading full dataset.\n"
     ]
    },
    {
     "name": "stderr",
     "output_type": "stream",
     "text": [
      "parsing dataset: 100%|██████████| 143/143 [00:02<00:00, 58.87it/s]\n"
     ]
    },
    {
     "name": "stdout",
     "output_type": "stream",
     "text": [
      "caching tasks dataset... done\n",
      "Starting task: c92-session-000-subtask-002\n",
      "Loading parsed dataset failed. Downloading full dataset.\n"
     ]
    },
    {
     "name": "stderr",
     "output_type": "stream",
     "text": [
      "parsing dataset: 100%|██████████| 143/143 [00:02<00:00, 58.06it/s]\n"
     ]
    },
    {
     "name": "stdout",
     "output_type": "stream",
     "text": [
      "caching tasks dataset... done\n",
      "Starting task: c92-session-000-subtask-003\n",
      "Loading parsed dataset failed. Downloading full dataset.\n"
     ]
    },
    {
     "name": "stderr",
     "output_type": "stream",
     "text": [
      "parsing dataset: 100%|██████████| 143/143 [00:02<00:00, 57.50it/s]\n"
     ]
    },
    {
     "name": "stdout",
     "output_type": "stream",
     "text": [
      "caching tasks dataset... done\n",
      "Starting task: c92-session-000-subtask-004\n",
      "Loading parsed dataset failed. Downloading full dataset.\n"
     ]
    },
    {
     "name": "stderr",
     "output_type": "stream",
     "text": [
      "parsing dataset: 100%|██████████| 143/143 [00:02<00:00, 57.47it/s]\n"
     ]
    },
    {
     "name": "stdout",
     "output_type": "stream",
     "text": [
      "caching tasks dataset... done\n",
      "Starting task: c92-session-000-subtask-005\n",
      "Loading parsed dataset failed. Downloading full dataset.\n"
     ]
    },
    {
     "name": "stderr",
     "output_type": "stream",
     "text": [
      "parsing dataset: 100%|██████████| 143/143 [00:02<00:00, 57.39it/s]\n"
     ]
    },
    {
     "name": "stdout",
     "output_type": "stream",
     "text": [
      "caching tasks dataset... done\n",
      "Starting task: c92-session-000-subtask-006\n",
      "Loading parsed dataset failed. Downloading full dataset.\n"
     ]
    },
    {
     "name": "stderr",
     "output_type": "stream",
     "text": [
      "parsing dataset: 100%|██████████| 143/143 [00:02<00:00, 58.53it/s]\n"
     ]
    },
    {
     "name": "stdout",
     "output_type": "stream",
     "text": [
      "caching tasks dataset... done\n",
      "Starting task: c92-session-000-subtask-007\n",
      "Loading parsed dataset failed. Downloading full dataset.\n"
     ]
    },
    {
     "name": "stderr",
     "output_type": "stream",
     "text": [
      "parsing dataset: 100%|██████████| 143/143 [00:02<00:00, 58.42it/s]\n"
     ]
    },
    {
     "name": "stdout",
     "output_type": "stream",
     "text": [
      "caching tasks dataset... done\n",
      "Starting task: c92-session-000-subtask-008\n",
      "Loading parsed dataset failed. Downloading full dataset.\n"
     ]
    },
    {
     "name": "stderr",
     "output_type": "stream",
     "text": [
      "parsing dataset: 100%|██████████| 143/143 [00:02<00:00, 56.29it/s]\n"
     ]
    },
    {
     "name": "stdout",
     "output_type": "stream",
     "text": [
      "caching tasks dataset... done\n",
      "Starting task: c92-session-000-subtask-009\n",
      "Loading parsed dataset failed. Downloading full dataset.\n"
     ]
    },
    {
     "name": "stderr",
     "output_type": "stream",
     "text": [
      "parsing dataset: 100%|██████████| 143/143 [00:02<00:00, 55.27it/s]\n"
     ]
    },
    {
     "name": "stdout",
     "output_type": "stream",
     "text": [
      "caching tasks dataset... done\n",
      "Starting task: c92-session-001-subtask-000\n",
      "Loading parsed dataset failed. Downloading full dataset.\n"
     ]
    },
    {
     "name": "stderr",
     "output_type": "stream",
     "text": [
      "parsing dataset: 100%|██████████| 143/143 [00:02<00:00, 54.29it/s]\n"
     ]
    },
    {
     "name": "stdout",
     "output_type": "stream",
     "text": [
      "caching tasks dataset... done\n",
      "Starting task: c92-session-001-subtask-001\n",
      "Loading parsed dataset failed. Downloading full dataset.\n"
     ]
    },
    {
     "name": "stderr",
     "output_type": "stream",
     "text": [
      "parsing dataset: 100%|██████████| 143/143 [00:02<00:00, 56.26it/s]\n"
     ]
    },
    {
     "name": "stdout",
     "output_type": "stream",
     "text": [
      "caching tasks dataset... done\n",
      "Starting task: c92-session-001-subtask-002\n",
      "Loading parsed dataset failed. Downloading full dataset.\n"
     ]
    },
    {
     "name": "stderr",
     "output_type": "stream",
     "text": [
      "parsing dataset: 100%|██████████| 143/143 [00:02<00:00, 56.62it/s]\n"
     ]
    },
    {
     "name": "stdout",
     "output_type": "stream",
     "text": [
      "caching tasks dataset... done\n",
      "Starting task: c92-session-001-subtask-003\n",
      "Loading parsed dataset failed. Downloading full dataset.\n"
     ]
    },
    {
     "name": "stderr",
     "output_type": "stream",
     "text": [
      "parsing dataset: 100%|██████████| 143/143 [00:02<00:00, 56.60it/s]\n"
     ]
    },
    {
     "name": "stdout",
     "output_type": "stream",
     "text": [
      "caching tasks dataset... done\n",
      "Starting task: c92-session-002-subtask-000\n"
     ]
    },
    {
     "name": "stderr",
     "output_type": "stream",
     "text": [
      "ERROR:root:Internal Python error in the inspect module.\n",
      "Below is the traceback from this internal error.\n",
      "\n"
     ]
    },
    {
     "name": "stdout",
     "output_type": "stream",
     "text": [
      "Traceback (most recent call last):\n",
      "  File \"/home/vitaliy/anaconda3/envs/IGLU/lib/python3.7/site-packages/IPython/core/interactiveshell.py\", line 3457, in run_code\n",
      "    exec(code_obj, self.user_global_ns, self.user_ns)\n",
      "  File \"/tmp/ipykernel_946270/2052164598.py\", line 49, in <module>\n",
      "    eval_agent()\n",
      "  File \"/tmp/ipykernel_946270/2052164598.py\", line 32, in eval_agent\n",
      "    predicted_grid = grid_predictor.predict_grid(dialog)\n",
      "  File \"/home/vitaliy/PycharmProject/IGLU/nlp_model/agent.py\", line 126, in predict_grid\n",
      "    _, grid, _ = predict_voxel(dialog, self.model, self.tokenizer, history, initial_grid, self.args)\n",
      "  File \"/home/vitaliy/PycharmProject/IGLU/nlp_model/agent.py\", line 76, in predict_voxel\n",
      "    actions = generate_actions(args, model, tokenizer, command, history, None)\n",
      "  File \"/home/vitaliy/PycharmProject/IGLU/nlp_model/agent.py\", line 46, in generate_actions\n",
      "    outputs = model.generate(input_ids, min_length=2, max_length=args.max_target_length, )\n",
      "  File \"/home/vitaliy/anaconda3/envs/IGLU/lib/python3.7/site-packages/torch/autograd/grad_mode.py\", line 27, in decorate_context\n",
      "    return func(*args, **kwargs)\n",
      "  File \"/home/vitaliy/anaconda3/envs/IGLU/lib/python3.7/site-packages/transformers/generation_utils.py\", line 897, in generate\n",
      "    **model_kwargs,\n",
      "  File \"/home/vitaliy/anaconda3/envs/IGLU/lib/python3.7/site-packages/transformers/generation_utils.py\", line 1161, in greedy_search\n",
      "    output_hidden_states=output_hidden_states,\n",
      "  File \"/home/vitaliy/anaconda3/envs/IGLU/lib/python3.7/site-packages/torch/nn/modules/module.py\", line 889, in _call_impl\n",
      "    result = self.forward(*input, **kwargs)\n",
      "  File \"/home/vitaliy/anaconda3/envs/IGLU/lib/python3.7/site-packages/transformers/models/t5/modeling_t5.py\", line 1510, in forward\n",
      "    return_dict=return_dict,\n",
      "  File \"/home/vitaliy/anaconda3/envs/IGLU/lib/python3.7/site-packages/torch/nn/modules/module.py\", line 889, in _call_impl\n",
      "    result = self.forward(*input, **kwargs)\n",
      "  File \"/home/vitaliy/anaconda3/envs/IGLU/lib/python3.7/site-packages/transformers/models/t5/modeling_t5.py\", line 946, in forward\n",
      "    output_attentions=output_attentions,\n",
      "  File \"/home/vitaliy/anaconda3/envs/IGLU/lib/python3.7/site-packages/torch/nn/modules/module.py\", line 889, in _call_impl\n",
      "    result = self.forward(*input, **kwargs)\n",
      "  File \"/home/vitaliy/anaconda3/envs/IGLU/lib/python3.7/site-packages/transformers/models/t5/modeling_t5.py\", line 638, in forward\n",
      "    output_attentions=output_attentions,\n",
      "  File \"/home/vitaliy/anaconda3/envs/IGLU/lib/python3.7/site-packages/torch/nn/modules/module.py\", line 889, in _call_impl\n",
      "    result = self.forward(*input, **kwargs)\n",
      "  File \"/home/vitaliy/anaconda3/envs/IGLU/lib/python3.7/site-packages/transformers/models/t5/modeling_t5.py\", line 546, in forward\n",
      "    output_attentions=output_attentions,\n",
      "  File \"/home/vitaliy/anaconda3/envs/IGLU/lib/python3.7/site-packages/torch/nn/modules/module.py\", line 889, in _call_impl\n",
      "    result = self.forward(*input, **kwargs)\n",
      "  File \"/home/vitaliy/anaconda3/envs/IGLU/lib/python3.7/site-packages/transformers/models/t5/modeling_t5.py\", line 474, in forward\n",
      "    hidden_states, self.v, key_value_states, past_key_value[1] if past_key_value is not None else None\n",
      "  File \"/home/vitaliy/anaconda3/envs/IGLU/lib/python3.7/site-packages/torch/nn/modules/module.py\", line 934, in __getattr__\n",
      "    def __getattr__(self, name: str) -> Union[Tensor, 'Module']:\n",
      "KeyboardInterrupt\n",
      "\n",
      "During handling of the above exception, another exception occurred:\n",
      "\n",
      "Traceback (most recent call last):\n",
      "  File \"/home/vitaliy/anaconda3/envs/IGLU/lib/python3.7/site-packages/IPython/core/interactiveshell.py\", line 2077, in showtraceback\n",
      "    stb = value._render_traceback_()\n",
      "AttributeError: 'KeyboardInterrupt' object has no attribute '_render_traceback_'\n",
      "\n",
      "During handling of the above exception, another exception occurred:\n",
      "\n",
      "Traceback (most recent call last):\n",
      "  File \"/home/vitaliy/anaconda3/envs/IGLU/lib/python3.7/site-packages/IPython/core/ultratb.py\", line 1101, in get_records\n",
      "    return _fixed_getinnerframes(etb, number_of_lines_of_context, tb_offset)\n",
      "  File \"/home/vitaliy/anaconda3/envs/IGLU/lib/python3.7/site-packages/IPython/core/ultratb.py\", line 248, in wrapped\n",
      "    return f(*args, **kwargs)\n",
      "  File \"/home/vitaliy/anaconda3/envs/IGLU/lib/python3.7/site-packages/IPython/core/ultratb.py\", line 281, in _fixed_getinnerframes\n",
      "    records = fix_frame_records_filenames(inspect.getinnerframes(etb, context))\n",
      "  File \"/home/vitaliy/anaconda3/envs/IGLU/lib/python3.7/inspect.py\", line 1502, in getinnerframes\n",
      "    frameinfo = (tb.tb_frame,) + getframeinfo(tb, context)\n",
      "  File \"/home/vitaliy/anaconda3/envs/IGLU/lib/python3.7/inspect.py\", line 1460, in getframeinfo\n",
      "    filename = getsourcefile(frame) or getfile(frame)\n",
      "  File \"/home/vitaliy/anaconda3/envs/IGLU/lib/python3.7/inspect.py\", line 696, in getsourcefile\n",
      "    if getattr(getmodule(object, filename), '__loader__', None) is not None:\n",
      "  File \"/home/vitaliy/anaconda3/envs/IGLU/lib/python3.7/inspect.py\", line 739, in getmodule\n",
      "    f = getabsfile(module)\n",
      "  File \"/home/vitaliy/anaconda3/envs/IGLU/lib/python3.7/inspect.py\", line 708, in getabsfile\n",
      "    _filename = getsourcefile(object) or getfile(object)\n",
      "  File \"/home/vitaliy/anaconda3/envs/IGLU/lib/python3.7/inspect.py\", line 693, in getsourcefile\n",
      "    if os.path.exists(filename):\n",
      "  File \"/home/vitaliy/anaconda3/envs/IGLU/lib/python3.7/genericpath.py\", line 19, in exists\n",
      "    os.stat(path)\n",
      "KeyboardInterrupt\n"
     ]
    },
    {
     "ename": "TypeError",
     "evalue": "object of type 'NoneType' has no len()",
     "output_type": "error",
     "traceback": [
      "\u001B[0;31m---------------------------------------------------------------------------\u001B[0m",
      "\u001B[0;31mKeyboardInterrupt\u001B[0m                         Traceback (most recent call last)",
      "    \u001B[0;31m[... skipping hidden 1 frame]\u001B[0m\n",
      "\u001B[0;32m/tmp/ipykernel_946270/2052164598.py\u001B[0m in \u001B[0;36m<module>\u001B[0;34m\u001B[0m\n\u001B[1;32m     48\u001B[0m     \u001B[0mprint\u001B[0m\u001B[0;34m(\u001B[0m\u001B[0;34m'Total F1 score:'\u001B[0m\u001B[0;34m,\u001B[0m \u001B[0mnp\u001B[0m\u001B[0;34m.\u001B[0m\u001B[0mmean\u001B[0m\u001B[0;34m(\u001B[0m\u001B[0mtotal_score\u001B[0m\u001B[0;34m)\u001B[0m\u001B[0;34m)\u001B[0m\u001B[0;34m\u001B[0m\u001B[0;34m\u001B[0m\u001B[0m\n\u001B[0;32m---> 49\u001B[0;31m \u001B[0meval_agent\u001B[0m\u001B[0;34m(\u001B[0m\u001B[0;34m)\u001B[0m\u001B[0;34m\u001B[0m\u001B[0;34m\u001B[0m\u001B[0m\n\u001B[0m",
      "\u001B[0;32m/tmp/ipykernel_946270/2052164598.py\u001B[0m in \u001B[0;36meval_agent\u001B[0;34m()\u001B[0m\n\u001B[1;32m     31\u001B[0m         \u001B[0mdialog\u001B[0m \u001B[0;34m=\u001B[0m \u001B[0mget_dialog\u001B[0m\u001B[0;34m(\u001B[0m\u001B[0msubtask\u001B[0m\u001B[0;34m)\u001B[0m\u001B[0;34m\u001B[0m\u001B[0;34m\u001B[0m\u001B[0m\n\u001B[0;32m---> 32\u001B[0;31m         \u001B[0mpredicted_grid\u001B[0m \u001B[0;34m=\u001B[0m \u001B[0mgrid_predictor\u001B[0m\u001B[0;34m.\u001B[0m\u001B[0mpredict_grid\u001B[0m\u001B[0;34m(\u001B[0m\u001B[0mdialog\u001B[0m\u001B[0;34m)\u001B[0m\u001B[0;34m\u001B[0m\u001B[0;34m\u001B[0m\u001B[0m\n\u001B[0m\u001B[1;32m     33\u001B[0m \u001B[0;34m\u001B[0m\u001B[0m\n",
      "\u001B[0;32m~/PycharmProject/IGLU/nlp_model/agent.py\u001B[0m in \u001B[0;36mpredict_grid\u001B[0;34m(self, dialog, initial_grid)\u001B[0m\n\u001B[1;32m    125\u001B[0m         \u001B[0mhistory\u001B[0m \u001B[0;34m=\u001B[0m \u001B[0;34m[\u001B[0m\u001B[0;34m]\u001B[0m\u001B[0;34m\u001B[0m\u001B[0;34m\u001B[0m\u001B[0m\n\u001B[0;32m--> 126\u001B[0;31m         \u001B[0m_\u001B[0m\u001B[0;34m,\u001B[0m \u001B[0mgrid\u001B[0m\u001B[0;34m,\u001B[0m \u001B[0m_\u001B[0m \u001B[0;34m=\u001B[0m \u001B[0mpredict_voxel\u001B[0m\u001B[0;34m(\u001B[0m\u001B[0mdialog\u001B[0m\u001B[0;34m,\u001B[0m \u001B[0mself\u001B[0m\u001B[0;34m.\u001B[0m\u001B[0mmodel\u001B[0m\u001B[0;34m,\u001B[0m \u001B[0mself\u001B[0m\u001B[0;34m.\u001B[0m\u001B[0mtokenizer\u001B[0m\u001B[0;34m,\u001B[0m \u001B[0mhistory\u001B[0m\u001B[0;34m,\u001B[0m \u001B[0minitial_grid\u001B[0m\u001B[0;34m,\u001B[0m \u001B[0mself\u001B[0m\u001B[0;34m.\u001B[0m\u001B[0margs\u001B[0m\u001B[0;34m)\u001B[0m\u001B[0;34m\u001B[0m\u001B[0;34m\u001B[0m\u001B[0m\n\u001B[0m\u001B[1;32m    127\u001B[0m \u001B[0;34m\u001B[0m\u001B[0m\n",
      "\u001B[0;32m~/PycharmProject/IGLU/nlp_model/agent.py\u001B[0m in \u001B[0;36mpredict_voxel\u001B[0;34m(command, model, tokenizer, history, voxel, args)\u001B[0m\n\u001B[1;32m     75\u001B[0m \u001B[0;32mdef\u001B[0m \u001B[0mpredict_voxel\u001B[0m\u001B[0;34m(\u001B[0m\u001B[0mcommand\u001B[0m\u001B[0;34m,\u001B[0m \u001B[0mmodel\u001B[0m\u001B[0;34m,\u001B[0m \u001B[0mtokenizer\u001B[0m\u001B[0;34m,\u001B[0m \u001B[0mhistory\u001B[0m\u001B[0;34m,\u001B[0m \u001B[0mvoxel\u001B[0m\u001B[0;34m,\u001B[0m \u001B[0margs\u001B[0m\u001B[0;34m)\u001B[0m\u001B[0;34m:\u001B[0m\u001B[0;34m\u001B[0m\u001B[0;34m\u001B[0m\u001B[0m\n\u001B[0;32m---> 76\u001B[0;31m     \u001B[0mactions\u001B[0m \u001B[0;34m=\u001B[0m \u001B[0mgenerate_actions\u001B[0m\u001B[0;34m(\u001B[0m\u001B[0margs\u001B[0m\u001B[0;34m,\u001B[0m \u001B[0mmodel\u001B[0m\u001B[0;34m,\u001B[0m \u001B[0mtokenizer\u001B[0m\u001B[0;34m,\u001B[0m \u001B[0mcommand\u001B[0m\u001B[0;34m,\u001B[0m \u001B[0mhistory\u001B[0m\u001B[0;34m,\u001B[0m \u001B[0;32mNone\u001B[0m\u001B[0;34m)\u001B[0m\u001B[0;34m\u001B[0m\u001B[0;34m\u001B[0m\u001B[0m\n\u001B[0m\u001B[1;32m     77\u001B[0m     \u001B[0mvoxel\u001B[0m\u001B[0;34m,\u001B[0m \u001B[0mnew_stats\u001B[0m \u001B[0;34m=\u001B[0m \u001B[0mupdate_state\u001B[0m\u001B[0;34m(\u001B[0m\u001B[0margs\u001B[0m\u001B[0;34m,\u001B[0m \u001B[0mvoxel\u001B[0m\u001B[0;34m,\u001B[0m \u001B[0mactions\u001B[0m\u001B[0;34m,\u001B[0m \u001B[0;32mNone\u001B[0m\u001B[0;34m)\u001B[0m\u001B[0;34m\u001B[0m\u001B[0;34m\u001B[0m\u001B[0m\n",
      "\u001B[0;32m~/PycharmProject/IGLU/nlp_model/agent.py\u001B[0m in \u001B[0;36mgenerate_actions\u001B[0;34m(args, model, tokenizer, command, history, log_file)\u001B[0m\n\u001B[1;32m     45\u001B[0m         \u001B[0minput_ids\u001B[0m \u001B[0;34m=\u001B[0m \u001B[0minput_ids\u001B[0m\u001B[0;34m.\u001B[0m\u001B[0mcuda\u001B[0m\u001B[0;34m(\u001B[0m\u001B[0;34m)\u001B[0m\u001B[0;34m\u001B[0m\u001B[0;34m\u001B[0m\u001B[0m\n\u001B[0;32m---> 46\u001B[0;31m     \u001B[0moutputs\u001B[0m \u001B[0;34m=\u001B[0m \u001B[0mmodel\u001B[0m\u001B[0;34m.\u001B[0m\u001B[0mgenerate\u001B[0m\u001B[0;34m(\u001B[0m\u001B[0minput_ids\u001B[0m\u001B[0;34m,\u001B[0m \u001B[0mmin_length\u001B[0m\u001B[0;34m=\u001B[0m\u001B[0;36m2\u001B[0m\u001B[0;34m,\u001B[0m \u001B[0mmax_length\u001B[0m\u001B[0;34m=\u001B[0m\u001B[0margs\u001B[0m\u001B[0;34m.\u001B[0m\u001B[0mmax_target_length\u001B[0m\u001B[0;34m,\u001B[0m \u001B[0;34m)\u001B[0m\u001B[0;34m\u001B[0m\u001B[0;34m\u001B[0m\u001B[0m\n\u001B[0m\u001B[1;32m     47\u001B[0m     \u001B[0mprediction\u001B[0m \u001B[0;34m=\u001B[0m \u001B[0mtokenizer\u001B[0m\u001B[0;34m.\u001B[0m\u001B[0mdecode\u001B[0m\u001B[0;34m(\u001B[0m\u001B[0moutputs\u001B[0m\u001B[0;34m[\u001B[0m\u001B[0;36m0\u001B[0m\u001B[0;34m]\u001B[0m\u001B[0;34m,\u001B[0m \u001B[0mskip_special_tokens\u001B[0m\u001B[0;34m=\u001B[0m\u001B[0;32mTrue\u001B[0m\u001B[0;34m)\u001B[0m\u001B[0;34m\u001B[0m\u001B[0;34m\u001B[0m\u001B[0m\n",
      "\u001B[0;32m~/anaconda3/envs/IGLU/lib/python3.7/site-packages/torch/autograd/grad_mode.py\u001B[0m in \u001B[0;36mdecorate_context\u001B[0;34m(*args, **kwargs)\u001B[0m\n\u001B[1;32m     26\u001B[0m             \u001B[0;32mwith\u001B[0m \u001B[0mself\u001B[0m\u001B[0;34m.\u001B[0m\u001B[0m__class__\u001B[0m\u001B[0;34m(\u001B[0m\u001B[0;34m)\u001B[0m\u001B[0;34m:\u001B[0m\u001B[0;34m\u001B[0m\u001B[0;34m\u001B[0m\u001B[0m\n\u001B[0;32m---> 27\u001B[0;31m                 \u001B[0;32mreturn\u001B[0m \u001B[0mfunc\u001B[0m\u001B[0;34m(\u001B[0m\u001B[0;34m*\u001B[0m\u001B[0margs\u001B[0m\u001B[0;34m,\u001B[0m \u001B[0;34m**\u001B[0m\u001B[0mkwargs\u001B[0m\u001B[0;34m)\u001B[0m\u001B[0;34m\u001B[0m\u001B[0;34m\u001B[0m\u001B[0m\n\u001B[0m\u001B[1;32m     28\u001B[0m         \u001B[0;32mreturn\u001B[0m \u001B[0mcast\u001B[0m\u001B[0;34m(\u001B[0m\u001B[0mF\u001B[0m\u001B[0;34m,\u001B[0m \u001B[0mdecorate_context\u001B[0m\u001B[0;34m)\u001B[0m\u001B[0;34m\u001B[0m\u001B[0;34m\u001B[0m\u001B[0m\n",
      "\u001B[0;32m~/anaconda3/envs/IGLU/lib/python3.7/site-packages/transformers/generation_utils.py\u001B[0m in \u001B[0;36mgenerate\u001B[0;34m(self, input_ids, max_length, min_length, do_sample, early_stopping, num_beams, temperature, top_k, top_p, repetition_penalty, bad_words_ids, bos_token_id, pad_token_id, eos_token_id, length_penalty, no_repeat_ngram_size, num_return_sequences, decoder_start_token_id, use_cache, num_beam_groups, diversity_penalty, prefix_allowed_tokens_fn, output_attentions, output_hidden_states, output_scores, return_dict_in_generate, **model_kwargs)\u001B[0m\n\u001B[1;32m    896\u001B[0m                 \u001B[0mreturn_dict_in_generate\u001B[0m\u001B[0;34m=\u001B[0m\u001B[0mreturn_dict_in_generate\u001B[0m\u001B[0;34m,\u001B[0m\u001B[0;34m\u001B[0m\u001B[0;34m\u001B[0m\u001B[0m\n\u001B[0;32m--> 897\u001B[0;31m                 \u001B[0;34m**\u001B[0m\u001B[0mmodel_kwargs\u001B[0m\u001B[0;34m,\u001B[0m\u001B[0;34m\u001B[0m\u001B[0;34m\u001B[0m\u001B[0m\n\u001B[0m\u001B[1;32m    898\u001B[0m             )\n",
      "\u001B[0;32m~/anaconda3/envs/IGLU/lib/python3.7/site-packages/transformers/generation_utils.py\u001B[0m in \u001B[0;36mgreedy_search\u001B[0;34m(self, input_ids, logits_processor, max_length, pad_token_id, eos_token_id, output_attentions, output_hidden_states, output_scores, return_dict_in_generate, **model_kwargs)\u001B[0m\n\u001B[1;32m   1160\u001B[0m                 \u001B[0moutput_attentions\u001B[0m\u001B[0;34m=\u001B[0m\u001B[0moutput_attentions\u001B[0m\u001B[0;34m,\u001B[0m\u001B[0;34m\u001B[0m\u001B[0;34m\u001B[0m\u001B[0m\n\u001B[0;32m-> 1161\u001B[0;31m                 \u001B[0moutput_hidden_states\u001B[0m\u001B[0;34m=\u001B[0m\u001B[0moutput_hidden_states\u001B[0m\u001B[0;34m,\u001B[0m\u001B[0;34m\u001B[0m\u001B[0;34m\u001B[0m\u001B[0m\n\u001B[0m\u001B[1;32m   1162\u001B[0m             )\n",
      "\u001B[0;32m~/anaconda3/envs/IGLU/lib/python3.7/site-packages/torch/nn/modules/module.py\u001B[0m in \u001B[0;36m_call_impl\u001B[0;34m(self, *input, **kwargs)\u001B[0m\n\u001B[1;32m    888\u001B[0m         \u001B[0;32melse\u001B[0m\u001B[0;34m:\u001B[0m\u001B[0;34m\u001B[0m\u001B[0;34m\u001B[0m\u001B[0m\n\u001B[0;32m--> 889\u001B[0;31m             \u001B[0mresult\u001B[0m \u001B[0;34m=\u001B[0m \u001B[0mself\u001B[0m\u001B[0;34m.\u001B[0m\u001B[0mforward\u001B[0m\u001B[0;34m(\u001B[0m\u001B[0;34m*\u001B[0m\u001B[0minput\u001B[0m\u001B[0;34m,\u001B[0m \u001B[0;34m**\u001B[0m\u001B[0mkwargs\u001B[0m\u001B[0;34m)\u001B[0m\u001B[0;34m\u001B[0m\u001B[0;34m\u001B[0m\u001B[0m\n\u001B[0m\u001B[1;32m    890\u001B[0m         for hook in itertools.chain(\n",
      "\u001B[0;32m~/anaconda3/envs/IGLU/lib/python3.7/site-packages/transformers/models/t5/modeling_t5.py\u001B[0m in \u001B[0;36mforward\u001B[0;34m(self, input_ids, attention_mask, decoder_input_ids, decoder_attention_mask, encoder_outputs, past_key_values, head_mask, inputs_embeds, decoder_inputs_embeds, labels, use_cache, output_attentions, output_hidden_states, return_dict)\u001B[0m\n\u001B[1;32m   1509\u001B[0m             \u001B[0moutput_hidden_states\u001B[0m\u001B[0;34m=\u001B[0m\u001B[0moutput_hidden_states\u001B[0m\u001B[0;34m,\u001B[0m\u001B[0;34m\u001B[0m\u001B[0;34m\u001B[0m\u001B[0m\n\u001B[0;32m-> 1510\u001B[0;31m             \u001B[0mreturn_dict\u001B[0m\u001B[0;34m=\u001B[0m\u001B[0mreturn_dict\u001B[0m\u001B[0;34m,\u001B[0m\u001B[0;34m\u001B[0m\u001B[0;34m\u001B[0m\u001B[0m\n\u001B[0m\u001B[1;32m   1511\u001B[0m         )\n",
      "\u001B[0;32m~/anaconda3/envs/IGLU/lib/python3.7/site-packages/torch/nn/modules/module.py\u001B[0m in \u001B[0;36m_call_impl\u001B[0;34m(self, *input, **kwargs)\u001B[0m\n\u001B[1;32m    888\u001B[0m         \u001B[0;32melse\u001B[0m\u001B[0;34m:\u001B[0m\u001B[0;34m\u001B[0m\u001B[0;34m\u001B[0m\u001B[0m\n\u001B[0;32m--> 889\u001B[0;31m             \u001B[0mresult\u001B[0m \u001B[0;34m=\u001B[0m \u001B[0mself\u001B[0m\u001B[0;34m.\u001B[0m\u001B[0mforward\u001B[0m\u001B[0;34m(\u001B[0m\u001B[0;34m*\u001B[0m\u001B[0minput\u001B[0m\u001B[0;34m,\u001B[0m \u001B[0;34m**\u001B[0m\u001B[0mkwargs\u001B[0m\u001B[0;34m)\u001B[0m\u001B[0;34m\u001B[0m\u001B[0;34m\u001B[0m\u001B[0m\n\u001B[0m\u001B[1;32m    890\u001B[0m         for hook in itertools.chain(\n",
      "\u001B[0;32m~/anaconda3/envs/IGLU/lib/python3.7/site-packages/transformers/models/t5/modeling_t5.py\u001B[0m in \u001B[0;36mforward\u001B[0;34m(self, input_ids, attention_mask, encoder_hidden_states, encoder_attention_mask, inputs_embeds, head_mask, past_key_values, use_cache, output_attentions, output_hidden_states, return_dict)\u001B[0m\n\u001B[1;32m    945\u001B[0m                 \u001B[0muse_cache\u001B[0m\u001B[0;34m=\u001B[0m\u001B[0muse_cache\u001B[0m\u001B[0;34m,\u001B[0m\u001B[0;34m\u001B[0m\u001B[0;34m\u001B[0m\u001B[0m\n\u001B[0;32m--> 946\u001B[0;31m                 \u001B[0moutput_attentions\u001B[0m\u001B[0;34m=\u001B[0m\u001B[0moutput_attentions\u001B[0m\u001B[0;34m,\u001B[0m\u001B[0;34m\u001B[0m\u001B[0;34m\u001B[0m\u001B[0m\n\u001B[0m\u001B[1;32m    947\u001B[0m             )\n",
      "\u001B[0;32m~/anaconda3/envs/IGLU/lib/python3.7/site-packages/torch/nn/modules/module.py\u001B[0m in \u001B[0;36m_call_impl\u001B[0;34m(self, *input, **kwargs)\u001B[0m\n\u001B[1;32m    888\u001B[0m         \u001B[0;32melse\u001B[0m\u001B[0;34m:\u001B[0m\u001B[0;34m\u001B[0m\u001B[0;34m\u001B[0m\u001B[0m\n\u001B[0;32m--> 889\u001B[0;31m             \u001B[0mresult\u001B[0m \u001B[0;34m=\u001B[0m \u001B[0mself\u001B[0m\u001B[0;34m.\u001B[0m\u001B[0mforward\u001B[0m\u001B[0;34m(\u001B[0m\u001B[0;34m*\u001B[0m\u001B[0minput\u001B[0m\u001B[0;34m,\u001B[0m \u001B[0;34m**\u001B[0m\u001B[0mkwargs\u001B[0m\u001B[0;34m)\u001B[0m\u001B[0;34m\u001B[0m\u001B[0;34m\u001B[0m\u001B[0m\n\u001B[0m\u001B[1;32m    890\u001B[0m         for hook in itertools.chain(\n",
      "\u001B[0;32m~/anaconda3/envs/IGLU/lib/python3.7/site-packages/transformers/models/t5/modeling_t5.py\u001B[0m in \u001B[0;36mforward\u001B[0;34m(self, hidden_states, attention_mask, position_bias, encoder_hidden_states, encoder_attention_mask, encoder_decoder_position_bias, head_mask, past_key_value, use_cache, output_attentions, return_dict)\u001B[0m\n\u001B[1;32m    637\u001B[0m             \u001B[0muse_cache\u001B[0m\u001B[0;34m=\u001B[0m\u001B[0muse_cache\u001B[0m\u001B[0;34m,\u001B[0m\u001B[0;34m\u001B[0m\u001B[0;34m\u001B[0m\u001B[0m\n\u001B[0;32m--> 638\u001B[0;31m             \u001B[0moutput_attentions\u001B[0m\u001B[0;34m=\u001B[0m\u001B[0moutput_attentions\u001B[0m\u001B[0;34m,\u001B[0m\u001B[0;34m\u001B[0m\u001B[0;34m\u001B[0m\u001B[0m\n\u001B[0m\u001B[1;32m    639\u001B[0m         )\n",
      "\u001B[0;32m~/anaconda3/envs/IGLU/lib/python3.7/site-packages/torch/nn/modules/module.py\u001B[0m in \u001B[0;36m_call_impl\u001B[0;34m(self, *input, **kwargs)\u001B[0m\n\u001B[1;32m    888\u001B[0m         \u001B[0;32melse\u001B[0m\u001B[0;34m:\u001B[0m\u001B[0;34m\u001B[0m\u001B[0;34m\u001B[0m\u001B[0m\n\u001B[0;32m--> 889\u001B[0;31m             \u001B[0mresult\u001B[0m \u001B[0;34m=\u001B[0m \u001B[0mself\u001B[0m\u001B[0;34m.\u001B[0m\u001B[0mforward\u001B[0m\u001B[0;34m(\u001B[0m\u001B[0;34m*\u001B[0m\u001B[0minput\u001B[0m\u001B[0;34m,\u001B[0m \u001B[0;34m**\u001B[0m\u001B[0mkwargs\u001B[0m\u001B[0;34m)\u001B[0m\u001B[0;34m\u001B[0m\u001B[0;34m\u001B[0m\u001B[0m\n\u001B[0m\u001B[1;32m    890\u001B[0m         for hook in itertools.chain(\n",
      "\u001B[0;32m~/anaconda3/envs/IGLU/lib/python3.7/site-packages/transformers/models/t5/modeling_t5.py\u001B[0m in \u001B[0;36mforward\u001B[0;34m(self, hidden_states, attention_mask, position_bias, head_mask, past_key_value, use_cache, output_attentions)\u001B[0m\n\u001B[1;32m    545\u001B[0m             \u001B[0muse_cache\u001B[0m\u001B[0;34m=\u001B[0m\u001B[0muse_cache\u001B[0m\u001B[0;34m,\u001B[0m\u001B[0;34m\u001B[0m\u001B[0;34m\u001B[0m\u001B[0m\n\u001B[0;32m--> 546\u001B[0;31m             \u001B[0moutput_attentions\u001B[0m\u001B[0;34m=\u001B[0m\u001B[0moutput_attentions\u001B[0m\u001B[0;34m,\u001B[0m\u001B[0;34m\u001B[0m\u001B[0;34m\u001B[0m\u001B[0m\n\u001B[0m\u001B[1;32m    547\u001B[0m         )\n",
      "\u001B[0;32m~/anaconda3/envs/IGLU/lib/python3.7/site-packages/torch/nn/modules/module.py\u001B[0m in \u001B[0;36m_call_impl\u001B[0;34m(self, *input, **kwargs)\u001B[0m\n\u001B[1;32m    888\u001B[0m         \u001B[0;32melse\u001B[0m\u001B[0;34m:\u001B[0m\u001B[0;34m\u001B[0m\u001B[0;34m\u001B[0m\u001B[0m\n\u001B[0;32m--> 889\u001B[0;31m             \u001B[0mresult\u001B[0m \u001B[0;34m=\u001B[0m \u001B[0mself\u001B[0m\u001B[0;34m.\u001B[0m\u001B[0mforward\u001B[0m\u001B[0;34m(\u001B[0m\u001B[0;34m*\u001B[0m\u001B[0minput\u001B[0m\u001B[0;34m,\u001B[0m \u001B[0;34m**\u001B[0m\u001B[0mkwargs\u001B[0m\u001B[0;34m)\u001B[0m\u001B[0;34m\u001B[0m\u001B[0;34m\u001B[0m\u001B[0m\n\u001B[0m\u001B[1;32m    890\u001B[0m         for hook in itertools.chain(\n",
      "\u001B[0;32m~/anaconda3/envs/IGLU/lib/python3.7/site-packages/transformers/models/t5/modeling_t5.py\u001B[0m in \u001B[0;36mforward\u001B[0;34m(self, hidden_states, mask, key_value_states, position_bias, past_key_value, head_mask, query_length, use_cache, output_attentions)\u001B[0m\n\u001B[1;32m    473\u001B[0m         value_states = project(\n\u001B[0;32m--> 474\u001B[0;31m             \u001B[0mhidden_states\u001B[0m\u001B[0;34m,\u001B[0m \u001B[0mself\u001B[0m\u001B[0;34m.\u001B[0m\u001B[0mv\u001B[0m\u001B[0;34m,\u001B[0m \u001B[0mkey_value_states\u001B[0m\u001B[0;34m,\u001B[0m \u001B[0mpast_key_value\u001B[0m\u001B[0;34m[\u001B[0m\u001B[0;36m1\u001B[0m\u001B[0;34m]\u001B[0m \u001B[0;32mif\u001B[0m \u001B[0mpast_key_value\u001B[0m \u001B[0;32mis\u001B[0m \u001B[0;32mnot\u001B[0m \u001B[0;32mNone\u001B[0m \u001B[0;32melse\u001B[0m \u001B[0;32mNone\u001B[0m\u001B[0;34m\u001B[0m\u001B[0;34m\u001B[0m\u001B[0m\n\u001B[0m\u001B[1;32m    475\u001B[0m         )\n",
      "\u001B[0;32m~/anaconda3/envs/IGLU/lib/python3.7/site-packages/torch/nn/modules/module.py\u001B[0m in \u001B[0;36m__getattr__\u001B[0;34m(self, name)\u001B[0m\n\u001B[1;32m    933\u001B[0m \u001B[0;34m\u001B[0m\u001B[0m\n\u001B[0;32m--> 934\u001B[0;31m     \u001B[0;32mdef\u001B[0m \u001B[0m__getattr__\u001B[0m\u001B[0;34m(\u001B[0m\u001B[0mself\u001B[0m\u001B[0;34m,\u001B[0m \u001B[0mname\u001B[0m\u001B[0;34m:\u001B[0m \u001B[0mstr\u001B[0m\u001B[0;34m)\u001B[0m \u001B[0;34m->\u001B[0m \u001B[0mUnion\u001B[0m\u001B[0;34m[\u001B[0m\u001B[0mTensor\u001B[0m\u001B[0;34m,\u001B[0m \u001B[0;34m'Module'\u001B[0m\u001B[0;34m]\u001B[0m\u001B[0;34m:\u001B[0m\u001B[0;34m\u001B[0m\u001B[0;34m\u001B[0m\u001B[0m\n\u001B[0m\u001B[1;32m    935\u001B[0m         \u001B[0;32mif\u001B[0m \u001B[0;34m'_parameters'\u001B[0m \u001B[0;32min\u001B[0m \u001B[0mself\u001B[0m\u001B[0;34m.\u001B[0m\u001B[0m__dict__\u001B[0m\u001B[0;34m:\u001B[0m\u001B[0;34m\u001B[0m\u001B[0;34m\u001B[0m\u001B[0m\n",
      "\u001B[0;31mKeyboardInterrupt\u001B[0m: ",
      "\nDuring handling of the above exception, another exception occurred:\n",
      "\u001B[0;31mAttributeError\u001B[0m                            Traceback (most recent call last)",
      "\u001B[0;32m~/anaconda3/envs/IGLU/lib/python3.7/site-packages/IPython/core/interactiveshell.py\u001B[0m in \u001B[0;36mshowtraceback\u001B[0;34m(self, exc_tuple, filename, tb_offset, exception_only, running_compiled_code)\u001B[0m\n\u001B[1;32m   2076\u001B[0m                         \u001B[0;31m# in the engines. This should return a list of strings.\u001B[0m\u001B[0;34m\u001B[0m\u001B[0;34m\u001B[0m\u001B[0;34m\u001B[0m\u001B[0m\n\u001B[0;32m-> 2077\u001B[0;31m                         \u001B[0mstb\u001B[0m \u001B[0;34m=\u001B[0m \u001B[0mvalue\u001B[0m\u001B[0;34m.\u001B[0m\u001B[0m_render_traceback_\u001B[0m\u001B[0;34m(\u001B[0m\u001B[0;34m)\u001B[0m\u001B[0;34m\u001B[0m\u001B[0;34m\u001B[0m\u001B[0m\n\u001B[0m\u001B[1;32m   2078\u001B[0m                     \u001B[0;32mexcept\u001B[0m \u001B[0mException\u001B[0m\u001B[0;34m:\u001B[0m\u001B[0;34m\u001B[0m\u001B[0;34m\u001B[0m\u001B[0m\n",
      "\u001B[0;31mAttributeError\u001B[0m: 'KeyboardInterrupt' object has no attribute '_render_traceback_'",
      "\nDuring handling of the above exception, another exception occurred:\n",
      "\u001B[0;31mTypeError\u001B[0m                                 Traceback (most recent call last)",
      "    \u001B[0;31m[... skipping hidden 1 frame]\u001B[0m\n",
      "\u001B[0;32m~/anaconda3/envs/IGLU/lib/python3.7/site-packages/IPython/core/interactiveshell.py\u001B[0m in \u001B[0;36mshowtraceback\u001B[0;34m(self, exc_tuple, filename, tb_offset, exception_only, running_compiled_code)\u001B[0m\n\u001B[1;32m   2078\u001B[0m                     \u001B[0;32mexcept\u001B[0m \u001B[0mException\u001B[0m\u001B[0;34m:\u001B[0m\u001B[0;34m\u001B[0m\u001B[0;34m\u001B[0m\u001B[0m\n\u001B[1;32m   2079\u001B[0m                         stb = self.InteractiveTB.structured_traceback(etype,\n\u001B[0;32m-> 2080\u001B[0;31m                                             value, tb, tb_offset=tb_offset)\n\u001B[0m\u001B[1;32m   2081\u001B[0m \u001B[0;34m\u001B[0m\u001B[0m\n\u001B[1;32m   2082\u001B[0m                     \u001B[0mself\u001B[0m\u001B[0;34m.\u001B[0m\u001B[0m_showtraceback\u001B[0m\u001B[0;34m(\u001B[0m\u001B[0metype\u001B[0m\u001B[0;34m,\u001B[0m \u001B[0mvalue\u001B[0m\u001B[0;34m,\u001B[0m \u001B[0mstb\u001B[0m\u001B[0;34m)\u001B[0m\u001B[0;34m\u001B[0m\u001B[0;34m\u001B[0m\u001B[0m\n",
      "\u001B[0;32m~/anaconda3/envs/IGLU/lib/python3.7/site-packages/IPython/core/ultratb.py\u001B[0m in \u001B[0;36mstructured_traceback\u001B[0;34m(self, etype, value, tb, tb_offset, number_of_lines_of_context)\u001B[0m\n\u001B[1;32m   1366\u001B[0m             \u001B[0mself\u001B[0m\u001B[0;34m.\u001B[0m\u001B[0mtb\u001B[0m \u001B[0;34m=\u001B[0m \u001B[0mtb\u001B[0m\u001B[0;34m\u001B[0m\u001B[0;34m\u001B[0m\u001B[0m\n\u001B[1;32m   1367\u001B[0m         return FormattedTB.structured_traceback(\n\u001B[0;32m-> 1368\u001B[0;31m             self, etype, value, tb, tb_offset, number_of_lines_of_context)\n\u001B[0m\u001B[1;32m   1369\u001B[0m \u001B[0;34m\u001B[0m\u001B[0m\n\u001B[1;32m   1370\u001B[0m \u001B[0;34m\u001B[0m\u001B[0m\n",
      "\u001B[0;32m~/anaconda3/envs/IGLU/lib/python3.7/site-packages/IPython/core/ultratb.py\u001B[0m in \u001B[0;36mstructured_traceback\u001B[0;34m(self, etype, value, tb, tb_offset, number_of_lines_of_context)\u001B[0m\n\u001B[1;32m   1266\u001B[0m             \u001B[0;31m# Verbose modes need a full traceback\u001B[0m\u001B[0;34m\u001B[0m\u001B[0;34m\u001B[0m\u001B[0;34m\u001B[0m\u001B[0m\n\u001B[1;32m   1267\u001B[0m             return VerboseTB.structured_traceback(\n\u001B[0;32m-> 1268\u001B[0;31m                 \u001B[0mself\u001B[0m\u001B[0;34m,\u001B[0m \u001B[0metype\u001B[0m\u001B[0;34m,\u001B[0m \u001B[0mvalue\u001B[0m\u001B[0;34m,\u001B[0m \u001B[0mtb\u001B[0m\u001B[0;34m,\u001B[0m \u001B[0mtb_offset\u001B[0m\u001B[0;34m,\u001B[0m \u001B[0mnumber_of_lines_of_context\u001B[0m\u001B[0;34m\u001B[0m\u001B[0;34m\u001B[0m\u001B[0m\n\u001B[0m\u001B[1;32m   1269\u001B[0m             )\n\u001B[1;32m   1270\u001B[0m         \u001B[0;32melif\u001B[0m \u001B[0mmode\u001B[0m \u001B[0;34m==\u001B[0m \u001B[0;34m'Minimal'\u001B[0m\u001B[0;34m:\u001B[0m\u001B[0;34m\u001B[0m\u001B[0;34m\u001B[0m\u001B[0m\n",
      "\u001B[0;32m~/anaconda3/envs/IGLU/lib/python3.7/site-packages/IPython/core/ultratb.py\u001B[0m in \u001B[0;36mstructured_traceback\u001B[0;34m(self, etype, evalue, etb, tb_offset, number_of_lines_of_context)\u001B[0m\n\u001B[1;32m   1123\u001B[0m \u001B[0;34m\u001B[0m\u001B[0m\n\u001B[1;32m   1124\u001B[0m         formatted_exception = self.format_exception_as_a_whole(etype, evalue, etb, number_of_lines_of_context,\n\u001B[0;32m-> 1125\u001B[0;31m                                                                tb_offset)\n\u001B[0m\u001B[1;32m   1126\u001B[0m \u001B[0;34m\u001B[0m\u001B[0m\n\u001B[1;32m   1127\u001B[0m         \u001B[0mcolors\u001B[0m \u001B[0;34m=\u001B[0m \u001B[0mself\u001B[0m\u001B[0;34m.\u001B[0m\u001B[0mColors\u001B[0m  \u001B[0;31m# just a shorthand + quicker name lookup\u001B[0m\u001B[0;34m\u001B[0m\u001B[0;34m\u001B[0m\u001B[0m\n",
      "\u001B[0;32m~/anaconda3/envs/IGLU/lib/python3.7/site-packages/IPython/core/ultratb.py\u001B[0m in \u001B[0;36mformat_exception_as_a_whole\u001B[0;34m(self, etype, evalue, etb, number_of_lines_of_context, tb_offset)\u001B[0m\n\u001B[1;32m   1080\u001B[0m \u001B[0;34m\u001B[0m\u001B[0m\n\u001B[1;32m   1081\u001B[0m \u001B[0;34m\u001B[0m\u001B[0m\n\u001B[0;32m-> 1082\u001B[0;31m         \u001B[0mlast_unique\u001B[0m\u001B[0;34m,\u001B[0m \u001B[0mrecursion_repeat\u001B[0m \u001B[0;34m=\u001B[0m \u001B[0mfind_recursion\u001B[0m\u001B[0;34m(\u001B[0m\u001B[0morig_etype\u001B[0m\u001B[0;34m,\u001B[0m \u001B[0mevalue\u001B[0m\u001B[0;34m,\u001B[0m \u001B[0mrecords\u001B[0m\u001B[0;34m)\u001B[0m\u001B[0;34m\u001B[0m\u001B[0;34m\u001B[0m\u001B[0m\n\u001B[0m\u001B[1;32m   1083\u001B[0m \u001B[0;34m\u001B[0m\u001B[0m\n\u001B[1;32m   1084\u001B[0m         \u001B[0mframes\u001B[0m \u001B[0;34m=\u001B[0m \u001B[0mself\u001B[0m\u001B[0;34m.\u001B[0m\u001B[0mformat_records\u001B[0m\u001B[0;34m(\u001B[0m\u001B[0mrecords\u001B[0m\u001B[0;34m,\u001B[0m \u001B[0mlast_unique\u001B[0m\u001B[0;34m,\u001B[0m \u001B[0mrecursion_repeat\u001B[0m\u001B[0;34m)\u001B[0m\u001B[0;34m\u001B[0m\u001B[0;34m\u001B[0m\u001B[0m\n",
      "\u001B[0;32m~/anaconda3/envs/IGLU/lib/python3.7/site-packages/IPython/core/ultratb.py\u001B[0m in \u001B[0;36mfind_recursion\u001B[0;34m(etype, value, records)\u001B[0m\n\u001B[1;32m    380\u001B[0m     \u001B[0;31m# first frame (from in to out) that looks different.\u001B[0m\u001B[0;34m\u001B[0m\u001B[0;34m\u001B[0m\u001B[0;34m\u001B[0m\u001B[0m\n\u001B[1;32m    381\u001B[0m     \u001B[0;32mif\u001B[0m \u001B[0;32mnot\u001B[0m \u001B[0mis_recursion_error\u001B[0m\u001B[0;34m(\u001B[0m\u001B[0metype\u001B[0m\u001B[0;34m,\u001B[0m \u001B[0mvalue\u001B[0m\u001B[0;34m,\u001B[0m \u001B[0mrecords\u001B[0m\u001B[0;34m)\u001B[0m\u001B[0;34m:\u001B[0m\u001B[0;34m\u001B[0m\u001B[0;34m\u001B[0m\u001B[0m\n\u001B[0;32m--> 382\u001B[0;31m         \u001B[0;32mreturn\u001B[0m \u001B[0mlen\u001B[0m\u001B[0;34m(\u001B[0m\u001B[0mrecords\u001B[0m\u001B[0;34m)\u001B[0m\u001B[0;34m,\u001B[0m \u001B[0;36m0\u001B[0m\u001B[0;34m\u001B[0m\u001B[0;34m\u001B[0m\u001B[0m\n\u001B[0m\u001B[1;32m    383\u001B[0m \u001B[0;34m\u001B[0m\u001B[0m\n\u001B[1;32m    384\u001B[0m     \u001B[0;31m# Select filename, lineno, func_name to track frames with\u001B[0m\u001B[0;34m\u001B[0m\u001B[0;34m\u001B[0m\u001B[0;34m\u001B[0m\u001B[0m\n",
      "\u001B[0;31mTypeError\u001B[0m: object of type 'NoneType' has no len()"
     ]
    }
   ],
   "source": [
    "import os\n",
    "import numpy as np\n",
    "\n",
    "import gym\n",
    "from gridworld.tasks import DUMMY_TASK\n",
    "\n",
    "from core.builder_walking import BuilderWalking\n",
    "\n",
    "from gridworld.data import IGLUDataset\n",
    "\n",
    "from nlp_model.agent import GridPredictor, get_dialog\n",
    "from nlp_model.utils import compute_metric\n",
    "\n",
    "\n",
    "dataset = IGLUDataset(dataset_version='v0.1.0-rc1', )\n",
    "\n",
    "\n",
    "FIXED_START_POSITION = np.array([0, 0, 0])\n",
    "\n",
    "\n",
    "def eval_agent():\n",
    "    grid_predictor = GridPredictor()\n",
    "    env = gym.make('IGLUGridworld-v0', vector_state=True, render_size=(800, 600))\n",
    "    env.set_task(DUMMY_TASK)\n",
    "    total_score = []\n",
    "\n",
    "    for j, (task_id, session_id, subtask_id, subtask) in enumerate(dataset):\n",
    "        str_id = str(task_id) + '-session-' + str(session_id).zfill(3) + '-subtask-' + str(subtask_id).zfill(3)\n",
    "        print('Starting task:', str_id)\n",
    "\n",
    "        dialog = get_dialog(subtask)\n",
    "        predicted_grid = grid_predictor.predict_grid(dialog)\n",
    "\n",
    "        obs = env.reset()\n",
    "        agent = BuilderWalking(predicted_grid, start_position=FIXED_START_POSITION)\n",
    "\n",
    "        while not agent.is_done:\n",
    "            action = agent.get_action()\n",
    "\n",
    "            obs, reward, done, info = env.step(action)\n",
    "\n",
    "        if not os.path.exists('plots'):\n",
    "            os.makedirs('plots')\n",
    "\n",
    "        f1_score = round(compute_metric(obs['grid'], subtask.target_grid)['completion_rate_f1'], 3)\n",
    "        total_score.append(f1_score)\n",
    "\n",
    "    print('Total F1 score:', np.mean(total_score))\n",
    "eval_agent()"
   ],
   "metadata": {
    "collapsed": false
   }
  },
  {
   "cell_type": "code",
   "execution_count": null,
   "outputs": [],
   "source": [],
   "metadata": {
    "collapsed": false
   }
  }
 ],
 "metadata": {
  "kernelspec": {
   "display_name": "Python 3",
   "language": "python",
   "name": "python3"
  },
  "language_info": {
   "codemirror_mode": {
    "name": "ipython",
    "version": 2
   },
   "file_extension": ".py",
   "mimetype": "text/x-python",
   "name": "python",
   "nbconvert_exporter": "python",
   "pygments_lexer": "ipython2",
   "version": "2.7.6"
  }
 },
 "nbformat": 4,
 "nbformat_minor": 0
}
