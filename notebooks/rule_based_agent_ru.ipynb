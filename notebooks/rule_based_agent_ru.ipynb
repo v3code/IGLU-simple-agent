{
 "cells": [
  {
   "cell_type": "markdown",
   "source": [
    "### Colab environment"
   ],
   "metadata": {
    "collapsed": false,
    "pycharm": {
     "name": "#%% md\n"
    }
   }
  },
  {
   "cell_type": "code",
   "execution_count": null,
   "outputs": [],
   "source": [
    "!git clone https://github.com/v3code/IGLU-simple-agent.git\n",
    "%cd ./IGLU-simple-agent\n",
    "!curl -s https://packagecloud.io/install/repositories/github/git-lfs/script.python.sh | bash\n",
    "!./initialize.sh --colab"
   ],
   "metadata": {
    "collapsed": false,
    "pycharm": {
     "name": "#%%\n"
    }
   }
  },
  {
   "cell_type": "code",
   "execution_count": null,
   "outputs": [],
   "source": [
    "import sys\n",
    "sys.path.insert(1,'/content/IGLU-simple-agent')"
   ],
   "metadata": {
    "collapsed": false,
    "pycharm": {
     "name": "#%%\n"
    }
   }
  },
  {
   "cell_type": "markdown",
   "source": [
    "# Описание агентов\n",
    "В начале данной работы предполагалось использование летающего агента по причине\n",
    "того, что он обладает несколькими преимуществами:\n",
    "- Непрерывное пространство действий, которое должно было позволить более точное и быстрое управление агентом\n",
    "- Возможность передвигаться по трем осям одновременно\n",
    "- Практически отсутствуют столкновение с блоками (можно проходить сквозь блоки)\n",
    "\n",
    "Однако, на самом деле, существуют некоторые проблемы с реализацией этого режима в данной среде (они будут описаны ниже),\n",
    "поэтому основным агентом является шагающий агент.\n",
    "\n",
    "Каждый агент имеет две очереди:\n",
    "- Очередь действий\n",
    "- Очередь постройки и удаления (в шагающем агенте не реализовано)\n",
    "\n",
    "При инициализации агента производится построение очереди постройки, состоящее из объектов, в которые передаются контекст (координаты блока, цвет, действие - удалить или построить). Также в объект передается сам агент, над которым будет производиться управление.\n",
    "Сами объекты представляют собой сущности класса BuildingQueueItem с методом process в котором производится построение очереди действий.\n",
    "\n",
    "Действия представляют собой команды, поддерживаемые средой.\n",
    "\n",
    "Когда происходит запрос действия от агента, он инициализируется, если до этого не был инициализирован,\n",
    "затем, идет проверка на наличие элементов в очереди действий.\n",
    "Если элементов нет, тогда производится проверка на наличие элемента из очереди построения,\n",
    "и вызывает метод process этого элемента. Затем производится повторная проверка очереди действий\n",
    "и возвращается действие из этой очереди, если она не пуста.\n",
    "Когда элементов в обеих очередях нет, возвращается пропуск-действие и агент переходит в состояние is_done.\n",
    "\n",
    "Расчет всех необходимых действий производится при инициализации агента. Разделение на очередь действий и постройки нужно для оптимизации оперативной памяти.\n",
    "\n",
    "Для корректной работы необходимо передать в конструктор агента карту, которую необходимо получить (target_grid) и начальное положение агента.\n",
    "\n",
    "## Ограничения агентов\n",
    "- Агенты пока могу работать только из известной начальной позиции.\n",
    "- Агенты будут корректно строить только при пустом начальном состоянии карты среды.\n",
    "\n",
    "## Описание алгоритма шагающего агента\n",
    "\n",
    "Сам алгоритм построения для шагающего агента очень прост. Построение ведется по столбцам сетки в зоне построения. Если в целевой сетке, на определенном столбце существует элемент на некоторой высоте, то агент строит \"башню\" с данной высотой в соответствующих координатах. Когда башня достроена, агент спрыгивает с башни, удаляя ненужные блоки. И так для каждого столбца - с лева на право, с севера на юг.\n",
    "\n",
    "Исходный код агента можно посмотреть [здесь](https://github.com/v3code/IGLU-simple-agent/blob/master/core/builder_walking.py)\n",
    "\n",
    "# Проблемы с летающим агентом\n",
    "- Непрерывным является только движение камерой, движение агента идет с одинаковой скоростью при любом значении в управляющем векторе от -1 до 1 (кроме соответственно 0).\n",
    "- Движение по вертикали вверх и вниз не проходит сквозь блоки\n",
    "- 1 шаг в шагающем пространстве действий равен 0.25 длины блока, а в летающем - 0.75, из-за чего возникает смещение позиции при переходе к определенным координатам, и, соответственно, ошибках при построении и удалении блоков\n",
    "\n",
    "## Возможные исправления\n",
    "- Использовать движение по одной оси и управлять направлением при помощи камеры\n",
    "- Использовать коррекцию камерой при построении и удалении блоков\n"
   ],
   "metadata": {
    "collapsed": false,
    "pycharm": {
     "name": "#%% md\n"
    }
   }
  },
  {
   "cell_type": "markdown",
   "source": [
    "# Оценка агента с использованием NLP моделью"
   ],
   "metadata": {
    "collapsed": false,
    "pycharm": {
     "name": "#%% md\n"
    }
   }
  },
  {
   "cell_type": "code",
   "execution_count": null,
   "outputs": [
    {
     "name": "stdout",
     "output_type": "stream",
     "text": [
      "Loading parsed dataset failed. Downloading full dataset.\n"
     ]
    },
    {
     "name": "stderr",
     "output_type": "stream",
     "text": [
      "parsing dataset: 100%|██████████| 143/143 [00:03<00:00, 46.03it/s]\n"
     ]
    },
    {
     "name": "stdout",
     "output_type": "stream",
     "text": [
      "caching tasks dataset... done\n"
     ]
    }
   ],
   "source": [
    "import os\n",
    "import numpy as np\n",
    "\n",
    "import gym\n",
    "from gridworld.tasks import DUMMY_TASK\n",
    "\n",
    "from core.builder_walking import BuilderWalking\n",
    "\n",
    "from gridworld.data import IGLUDataset\n",
    "\n",
    "from nlp_model.agent import GridPredictor, get_dialog\n",
    "from nlp_model.utils import plot_voxel, compute_metric\n",
    "\n",
    "dataset = IGLUDataset(dataset_version='v0.1.0-rc1', )\n",
    "\n",
    "\n",
    "def eval_agent():\n",
    "    grid_predictor = GridPredictor()\n",
    "    env = gym.make('IGLUGridworld-v0', vector_state=True, render_size=(800, 600))\n",
    "    # print(np.array(task.starting_grid).nonzero())\n",
    "    env.set_task(DUMMY_TASK)\n",
    "    total_score = []\n",
    "\n",
    "    for j, (task_id, session_id, subtask_id, subtask) in enumerate(dataset):\n",
    "        str_id = str(task_id) + '-session-' + str(session_id).zfill(3) + '-subtask-' + str(subtask_id).zfill(3)\n",
    "        print('Starting task:', str_id)\n",
    "\n",
    "        dialog = get_dialog(subtask)\n",
    "        predicted_grid = grid_predictor.predict_grid(dialog)\n",
    "\n",
    "        obs = env.reset()\n",
    "        agent = BuilderWalking(predicted_grid, obs['agentPos'][:3])\n",
    "        done = False\n",
    "\n",
    "        while not agent.is_done:\n",
    "            action = agent.get_action()\n",
    "\n",
    "            obs, reward, done, info = env.step(action)\n",
    "\n",
    "        if not os.path.exists('plots'):\n",
    "            os.makedirs('plots')\n",
    "\n",
    "        f1_score = round(compute_metric(obs['grid'], subtask.target_grid)['completion_rate_f1'], 3)\n",
    "        results = {'F1': f1_score}\n",
    "        total_score.append(f1_score)\n",
    "        results_str = \" \".join([f\"{metric}: {value}\" for metric, value in results.items()])\n",
    "        plot_voxel(predicted_grid, text=str_id + ' ' + f'({results_str})' + \"\\n\" + dialog).savefig(\n",
    "            f'./plots/{str_id}-predicted.png')\n",
    "        plot_voxel(subtask.target_grid, text=str_id + \" (Ground truth)\\n\" + dialog).savefig(\n",
    "            f'./plots/{str_id}-gt.png')\n",
    "\n",
    "    print('Total F1 score:', np.mean(total_score))\n",
    "eval_agent()"
   ],
   "metadata": {
    "collapsed": false,
    "pycharm": {
     "name": "#%%\n",
     "is_executing": true
    }
   }
  }
 ],
 "metadata": {
  "kernelspec": {
   "display_name": "Python 3",
   "language": "python",
   "name": "python3"
  },
  "language_info": {
   "codemirror_mode": {
    "name": "ipython",
    "version": 2
   },
   "file_extension": ".py",
   "mimetype": "text/x-python",
   "name": "python",
   "nbconvert_exporter": "python",
   "pygments_lexer": "ipython2",
   "version": "2.7.6"
  }
 },
 "nbformat": 4,
 "nbformat_minor": 0
}